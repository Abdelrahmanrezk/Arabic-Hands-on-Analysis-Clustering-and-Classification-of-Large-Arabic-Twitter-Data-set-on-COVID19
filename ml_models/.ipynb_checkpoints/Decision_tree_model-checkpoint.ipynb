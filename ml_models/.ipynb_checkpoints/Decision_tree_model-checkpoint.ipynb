{
 "cells": [
  {
   "cell_type": "code",
   "execution_count": 1,
   "metadata": {
    "collapsed": true
   },
   "outputs": [],
   "source": [
    "import os,sys,inspect\n",
    "currentdir = os.path.dirname(os.path.abspath(inspect.getfile(inspect.currentframe())))\n",
    "parentdir = os.path.dirname(currentdir)\n",
    "sys.path.insert(0,parentdir + '/config_files')\n",
    "\n",
    "# Files from config_files folder\n",
    "from configs import *\n",
    "from cleaning import *\n",
    "from features_engineering import *\n",
    "from direction_and_file_handleing import *"
   ]
  },
  {
   "cell_type": "code",
   "execution_count": 2,
   "metadata": {
    "collapsed": true
   },
   "outputs": [],
   "source": [
    "import os\n",
    "import pickle\n",
    "import pandas as pd\n",
    "import matplotlib.pyplot as plt\n",
    "\n",
    "# Evaluation\n",
    "from sklearn.metrics import confusion_matrix\n",
    "from sklearn.metrics import f1_score\n",
    "\n",
    "# models\n",
    "from sklearn.model_selection import GridSearchCV\n",
    "from sklearn.tree import DecisionTreeClassifier"
   ]
  },
  {
   "cell_type": "code",
   "execution_count": 3,
   "metadata": {},
   "outputs": [
    {
     "name": "stdout",
     "output_type": "stream",
     "text": [
      "The total words of January Month are:  304406\n"
     ]
    }
   ],
   "source": [
    "# read_direction_analysis function from direction_and_file_handleing file\n",
    "\n",
    "all_direction_words = read_direction_analysis(preprocessed_direction_path_tweets, \"\")\n",
    "# all_direction_words = all_direction_words[:len(all_direction_words) - 3000000]\n",
    "print(\"The total words of January Month are: \", len(all_direction_words))"
   ]
  },
  {
   "cell_type": "code",
   "execution_count": 4,
   "metadata": {},
   "outputs": [
    {
     "data": {
      "text/html": [
       "<div>\n",
       "<style scoped>\n",
       "    .dataframe tbody tr th:only-of-type {\n",
       "        vertical-align: middle;\n",
       "    }\n",
       "\n",
       "    .dataframe tbody tr th {\n",
       "        vertical-align: top;\n",
       "    }\n",
       "\n",
       "    .dataframe thead th {\n",
       "        text-align: right;\n",
       "    }\n",
       "</style>\n",
       "<table border=\"1\" class=\"dataframe\">\n",
       "  <thead>\n",
       "    <tr style=\"text-align: right;\">\n",
       "      <th></th>\n",
       "      <th>class</th>\n",
       "      <th>tweet_text</th>\n",
       "    </tr>\n",
       "  </thead>\n",
       "  <tbody>\n",
       "    <tr>\n",
       "      <th>0</th>\n",
       "      <td>1</td>\n",
       "      <td>طب مسلمين الصين اللي بيموتو الفيرس ذنب برده  ا...</td>\n",
       "    </tr>\n",
       "    <tr>\n",
       "      <th>1</th>\n",
       "      <td>1</td>\n",
       "      <td>علي ما اذكر معظم الفيروسات  ما عدا الايبولا  ك...</td>\n",
       "    </tr>\n",
       "    <tr>\n",
       "      <th>2</th>\n",
       "      <td>1</td>\n",
       "      <td>اميركا السبب لضرب الاقتصاد الصيني وتركيع الصين...</td>\n",
       "    </tr>\n",
       "    <tr>\n",
       "      <th>3</th>\n",
       "      <td>1</td>\n",
       "      <td>قلنا نقاطع الصين    الناس قالت مش ممكن الان مق...</td>\n",
       "    </tr>\n",
       "    <tr>\n",
       "      <th>4</th>\n",
       "      <td>1</td>\n",
       "      <td>نصحيتين اقدمها لك  1  لا تتروش في البرد  2  اح...</td>\n",
       "    </tr>\n",
       "  </tbody>\n",
       "</table>\n",
       "</div>"
      ],
      "text/plain": [
       "   class                                         tweet_text\n",
       "0      1  طب مسلمين الصين اللي بيموتو الفيرس ذنب برده  ا...\n",
       "1      1  علي ما اذكر معظم الفيروسات  ما عدا الايبولا  ك...\n",
       "2      1  اميركا السبب لضرب الاقتصاد الصيني وتركيع الصين...\n",
       "3      1  قلنا نقاطع الصين    الناس قالت مش ممكن الان مق...\n",
       "4      1  نصحيتين اقدمها لك  1  لا تتروش في البرد  2  اح..."
      ]
     },
     "execution_count": 4,
     "metadata": {},
     "output_type": "execute_result"
    }
   ],
   "source": [
    "df_file = pd.read_csv(analysis_direction_path_tweets + 'tweet_over_10000_classified_14_12_2020.csv', lineterminator='\\n', error_bad_lines=False)\n",
    "df_file.head()"
   ]
  },
  {
   "cell_type": "code",
   "execution_count": 5,
   "metadata": {},
   "outputs": [
    {
     "name": "stdout",
     "output_type": "stream",
     "text": [
      "The number of rows in this file are:  10068\n",
      "The columns are:  Index(['class', 'tweet_text'], dtype='object')\n",
      "The number of class 1 which represent this tweet talks about cron:  4972\n",
      "The number of class 0 which represent this tweet not talks about cron:  5096\n",
      "Our training data now are: 8054 Tweets\n",
      "Our testing data now are: 2014 Tweets\n",
      "Our training data now are: 8054 labels\n",
      "Our testing data now are: 2014 labels\n"
     ]
    }
   ],
   "source": [
    "# shuffle_dropna_separate_split function from direction_and_file_handleing file\n",
    "X_train, X_test, y_train, y_test, df_file = shuffle_dropna_separate_split(df_file, \"tweet_text\" ,\"class\")"
   ]
  },
  {
   "cell_type": "code",
   "execution_count": 6,
   "metadata": {},
   "outputs": [
    {
     "data": {
      "text/html": [
       "<div>\n",
       "<style scoped>\n",
       "    .dataframe tbody tr th:only-of-type {\n",
       "        vertical-align: middle;\n",
       "    }\n",
       "\n",
       "    .dataframe tbody tr th {\n",
       "        vertical-align: top;\n",
       "    }\n",
       "\n",
       "    .dataframe thead th {\n",
       "        text-align: right;\n",
       "    }\n",
       "</style>\n",
       "<table border=\"1\" class=\"dataframe\">\n",
       "  <thead>\n",
       "    <tr style=\"text-align: right;\">\n",
       "      <th></th>\n",
       "      <th>class</th>\n",
       "      <th>tweet_text</th>\n",
       "    </tr>\n",
       "  </thead>\n",
       "  <tbody>\n",
       "    <tr>\n",
       "      <th>0</th>\n",
       "      <td>1</td>\n",
       "      <td>يمه اللي يربط وجهه بالسماعه هههههههههههههههههه...</td>\n",
       "    </tr>\n",
       "    <tr>\n",
       "      <th>1</th>\n",
       "      <td>0</td>\n",
       "      <td>ان شاء الله يروح ارسنال او ايفرتون مثلا   بلاش...</td>\n",
       "    </tr>\n",
       "    <tr>\n",
       "      <th>2</th>\n",
       "      <td>1</td>\n",
       "      <td>الهلال_الاتفاق,الف مبروك التاهل مباراه سهله ص...</td>\n",
       "    </tr>\n",
       "    <tr>\n",
       "      <th>3</th>\n",
       "      <td>0</td>\n",
       "      <td>عشر_سنوات_محتوي  الصين شوهت سمعت الايفون</td>\n",
       "    </tr>\n",
       "    <tr>\n",
       "      <th>4</th>\n",
       "      <td>0</td>\n",
       "      <td>الشعب جاي يظاهر الفساد انتم اتسوون دعوات مليون...</td>\n",
       "    </tr>\n",
       "  </tbody>\n",
       "</table>\n",
       "</div>"
      ],
      "text/plain": [
       "   class                                         tweet_text\n",
       "0      1  يمه اللي يربط وجهه بالسماعه هههههههههههههههههه...\n",
       "1      0  ان شاء الله يروح ارسنال او ايفرتون مثلا   بلاش...\n",
       "2      1   الهلال_الاتفاق,الف مبروك التاهل مباراه سهله ص...\n",
       "3      0           عشر_سنوات_محتوي  الصين شوهت سمعت الايفون\n",
       "4      0  الشعب جاي يظاهر الفساد انتم اتسوون دعوات مليون..."
      ]
     },
     "execution_count": 6,
     "metadata": {},
     "output_type": "execute_result"
    }
   ],
   "source": [
    "df_file.head()"
   ]
  },
  {
   "cell_type": "code",
   "execution_count": 7,
   "metadata": {},
   "outputs": [],
   "source": [
    "# tfidf_vectorizer function from features_engineering file in config_files direction\n",
    "tfidf_vectorizer, training_data, testing_data = load_tfidf_vectorizer(X_train, X_test)"
   ]
  },
  {
   "cell_type": "code",
   "execution_count": 8,
   "metadata": {},
   "outputs": [
    {
     "name": "stdout",
     "output_type": "stream",
     "text": [
      "Our new vectorized data: (8054, 110000)\n",
      "Our new vectorized data: (2014, 110000)\n",
      "The first 2 review after transform: \n",
      " [[0. 0. 0. ... 0. 0. 0.]\n",
      " [0. 0. 0. ... 0. 0. 0.]]\n"
     ]
    }
   ],
   "source": [
    "# first shape is the data itself and second shape is the BOW in our data\n",
    "print(\"Our new vectorized data: \" + str(training_data.shape))\n",
    "print(\"Our new vectorized data: \" + str(testing_data.shape)) \n",
    "print(\"The first 2 review after transform: \\n\", training_data[:2])"
   ]
  },
  {
   "cell_type": "code",
   "execution_count": 9,
   "metadata": {},
   "outputs": [
    {
     "data": {
      "text/plain": [
       "DecisionTreeClassifier()"
      ]
     },
     "execution_count": 9,
     "metadata": {},
     "output_type": "execute_result"
    }
   ],
   "source": [
    "tree_cla = DecisionTreeClassifier()\n",
    "tree_cla.fit(training_data, y_train)"
   ]
  },
  {
   "cell_type": "code",
   "execution_count": 10,
   "metadata": {
    "collapsed": true
   },
   "outputs": [],
   "source": [
    "predict = tree_cla.predict(training_data)"
   ]
  },
  {
   "cell_type": "code",
   "execution_count": 11,
   "metadata": {},
   "outputs": [
    {
     "name": "stdout",
     "output_type": "stream",
     "text": [
      "F1 score of our training data is:  0.9991308666501117\n"
     ]
    }
   ],
   "source": [
    "print(\"F1 score of our training data is: \", f1_score(y_train, predict, average='micro'))"
   ]
  },
  {
   "cell_type": "code",
   "execution_count": 12,
   "metadata": {},
   "outputs": [
    {
     "name": "stdout",
     "output_type": "stream",
     "text": [
      "F1 score of our training data is:  0.8704071499503475\n"
     ]
    }
   ],
   "source": [
    "predict = tree_cla.predict(testing_data)\n",
    "print(\"F1 score of our training data is: \", f1_score(y_test, predict, average='micro'))"
   ]
  },
  {
   "cell_type": "code",
   "execution_count": null,
   "metadata": {
    "collapsed": true
   },
   "outputs": [],
   "source": []
  }
 ],
 "metadata": {
  "kernelspec": {
   "display_name": "Python 3",
   "language": "python",
   "name": "python3"
  },
  "language_info": {
   "codemirror_mode": {
    "name": "ipython",
    "version": 3
   },
   "file_extension": ".py",
   "mimetype": "text/x-python",
   "name": "python",
   "nbconvert_exporter": "python",
   "pygments_lexer": "ipython3",
   "version": "3.6.3"
  }
 },
 "nbformat": 4,
 "nbformat_minor": 2
}
