{
 "cells": [
  {
   "cell_type": "code",
   "execution_count": 1,
   "metadata": {
    "collapsed": true
   },
   "outputs": [],
   "source": [
    "import pandas as pd\n",
    "# For Graphs\n",
    "import arabic_reshaper\n",
    "import matplotlib.pyplot as plt\n",
    "from bidi.algorithm import get_display\n",
    "from __future__ import unicode_literals\n",
    "# To save model weights and features\n",
    "import pickle\n",
    "# models\n",
    "from sklearn.linear_model import LogisticRegression\n",
    "from gensim.models import Word2Vec\n",
    "# Dimension reduction\n",
    "from sklearn.decomposition import PCA\n",
    "from model_config import *"
   ]
  },
  {
   "cell_type": "markdown",
   "metadata": {},
   "source": [
    "# Read Training and Testing Data"
   ]
  },
  {
   "cell_type": "code",
   "execution_count": 2,
   "metadata": {
    "collapsed": true
   },
   "outputs": [],
   "source": [
    "start_train_set =pd.read_csv(analysis_direction_path_tweets + 'train_test_data/train_set.csv',  lineterminator='\\n', error_bad_lines=False)\n",
    "start_train_set.dropna(inplace=True)\n",
    "start_test_set  = pd.read_csv(analysis_direction_path_tweets + 'train_test_data/test_set.csv',  lineterminator='\\n', error_bad_lines=False)\n",
    "start_test_set.dropna(inplace=True)"
   ]
  },
  {
   "cell_type": "code",
   "execution_count": 3,
   "metadata": {},
   "outputs": [
    {
     "name": "stdout",
     "output_type": "stream",
     "text": [
      "<class 'pandas.core.frame.DataFrame'>\n",
      "Int64Index: 12060 entries, 0 to 12059\n",
      "Data columns (total 2 columns):\n",
      "class         12060 non-null int64\n",
      "tweet_text    12060 non-null object\n",
      "dtypes: int64(1), object(1)\n",
      "memory usage: 282.7+ KB\n",
      "None\n"
     ]
    },
    {
     "data": {
      "text/html": [
       "<div>\n",
       "<style scoped>\n",
       "    .dataframe tbody tr th:only-of-type {\n",
       "        vertical-align: middle;\n",
       "    }\n",
       "\n",
       "    .dataframe tbody tr th {\n",
       "        vertical-align: top;\n",
       "    }\n",
       "\n",
       "    .dataframe thead th {\n",
       "        text-align: right;\n",
       "    }\n",
       "</style>\n",
       "<table border=\"1\" class=\"dataframe\">\n",
       "  <thead>\n",
       "    <tr style=\"text-align: right;\">\n",
       "      <th></th>\n",
       "      <th>class</th>\n",
       "      <th>tweet_text</th>\n",
       "    </tr>\n",
       "  </thead>\n",
       "  <tbody>\n",
       "    <tr>\n",
       "      <th>0</th>\n",
       "      <td>0</td>\n",
       "      <td>استقدمو الصين وزراء ربعنا ماههم كفو</td>\n",
       "    </tr>\n",
       "    <tr>\n",
       "      <th>1</th>\n",
       "      <td>0</td>\n",
       "      <td>اكثر ما نستطيع فعله مقاطعه الصين باكبر قدر مم...</td>\n",
       "    </tr>\n",
       "    <tr>\n",
       "      <th>2</th>\n",
       "      <td>0</td>\n",
       "      <td>سمعنا_صوتك_ياهادي الحمله حملت سفير الصين علي ...</td>\n",
       "    </tr>\n",
       "    <tr>\n",
       "      <th>3</th>\n",
       "      <td>0</td>\n",
       "      <td>اوزيل حتي باشد فتراته سوءا كان يتحفنا بتمريرات...</td>\n",
       "    </tr>\n",
       "    <tr>\n",
       "      <th>4</th>\n",
       "      <td>0</td>\n",
       "      <td>لك بان الامريكان اقويا فقد كذب عزيزي قوه الامر...</td>\n",
       "    </tr>\n",
       "  </tbody>\n",
       "</table>\n",
       "</div>"
      ],
      "text/plain": [
       "   class                                         tweet_text\n",
       "0      0                استقدمو الصين وزراء ربعنا ماههم كفو\n",
       "1      0   اكثر ما نستطيع فعله مقاطعه الصين باكبر قدر مم...\n",
       "2      0   سمعنا_صوتك_ياهادي الحمله حملت سفير الصين علي ...\n",
       "3      0  اوزيل حتي باشد فتراته سوءا كان يتحفنا بتمريرات...\n",
       "4      0  لك بان الامريكان اقويا فقد كذب عزيزي قوه الامر..."
      ]
     },
     "execution_count": 3,
     "metadata": {},
     "output_type": "execute_result"
    }
   ],
   "source": [
    "# look how the train set is shuffle\n",
    "start_train_set.dropna()\n",
    "print(start_train_set.info())\n",
    "start_train_set.head(5)"
   ]
  },
  {
   "cell_type": "code",
   "execution_count": 4,
   "metadata": {},
   "outputs": [
    {
     "name": "stdout",
     "output_type": "stream",
     "text": [
      "<class 'pandas.core.frame.DataFrame'>\n",
      "Int64Index: 3014 entries, 0 to 3014\n",
      "Data columns (total 2 columns):\n",
      "class         3014 non-null int64\n",
      "tweet_text    3014 non-null object\n",
      "dtypes: int64(1), object(1)\n",
      "memory usage: 70.6+ KB\n",
      "None\n"
     ]
    },
    {
     "data": {
      "text/html": [
       "<div>\n",
       "<style scoped>\n",
       "    .dataframe tbody tr th:only-of-type {\n",
       "        vertical-align: middle;\n",
       "    }\n",
       "\n",
       "    .dataframe tbody tr th {\n",
       "        vertical-align: top;\n",
       "    }\n",
       "\n",
       "    .dataframe thead th {\n",
       "        text-align: right;\n",
       "    }\n",
       "</style>\n",
       "<table border=\"1\" class=\"dataframe\">\n",
       "  <thead>\n",
       "    <tr style=\"text-align: right;\">\n",
       "      <th></th>\n",
       "      <th>class</th>\n",
       "      <th>tweet_text</th>\n",
       "    </tr>\n",
       "  </thead>\n",
       "  <tbody>\n",
       "    <tr>\n",
       "      <th>0</th>\n",
       "      <td>1</td>\n",
       "      <td>ربنا احفظك واحميك واغطي واردك سالم غانم وكل اخ...</td>\n",
       "    </tr>\n",
       "    <tr>\n",
       "      <th>1</th>\n",
       "      <td>0</td>\n",
       "      <td>الرياض\\n  الصين تستبدل الالعاب الناريه والليز...</td>\n",
       "    </tr>\n",
       "    <tr>\n",
       "      <th>2</th>\n",
       "      <td>1</td>\n",
       "      <td>لو سمعحتوا فعلا الفايرس كورونا ياثر علي المنتج...</td>\n",
       "    </tr>\n",
       "    <tr>\n",
       "      <th>3</th>\n",
       "      <td>1</td>\n",
       "      <td>عاجل  بكين تعلن حاله وفاه في العاصمه فيروس  كو...</td>\n",
       "    </tr>\n",
       "    <tr>\n",
       "      <th>4</th>\n",
       "      <td>0</td>\n",
       "      <td>المطلوب التركيز علي ادامه زخم دعوات الانسحاب ا...</td>\n",
       "    </tr>\n",
       "  </tbody>\n",
       "</table>\n",
       "</div>"
      ],
      "text/plain": [
       "   class                                         tweet_text\n",
       "0      1  ربنا احفظك واحميك واغطي واردك سالم غانم وكل اخ...\n",
       "1      0   الرياض\\n  الصين تستبدل الالعاب الناريه والليز...\n",
       "2      1  لو سمعحتوا فعلا الفايرس كورونا ياثر علي المنتج...\n",
       "3      1  عاجل  بكين تعلن حاله وفاه في العاصمه فيروس  كو...\n",
       "4      0  المطلوب التركيز علي ادامه زخم دعوات الانسحاب ا..."
      ]
     },
     "execution_count": 4,
     "metadata": {},
     "output_type": "execute_result"
    }
   ],
   "source": [
    "# look how the test set is shuffle \n",
    "start_test_set.dropna()\n",
    "print(start_test_set.info())\n",
    "start_test_set.head(5)"
   ]
  },
  {
   "cell_type": "markdown",
   "metadata": {},
   "source": [
    "# Prepare Data for Features Engineering"
   ]
  },
  {
   "cell_type": "code",
   "execution_count": 5,
   "metadata": {},
   "outputs": [
    {
     "name": "stdout",
     "output_type": "stream",
     "text": [
      "Number of Training Tweets is:  12060\n",
      "Number of Tagets class in Training Tweets is:  12060\n",
      "Number of Testing Tweets is:  3014\n",
      "Number of Tagets class in Testing Tweets is:  3014\n"
     ]
    }
   ],
   "source": [
    "tweets_train, target_train, tweets_test, target_test = split_train_test_set(start_train_set, start_test_set)"
   ]
  },
  {
   "cell_type": "markdown",
   "metadata": {},
   "source": [
    "# The whole Data set"
   ]
  },
  {
   "cell_type": "code",
   "execution_count": 6,
   "metadata": {},
   "outputs": [
    {
     "name": "stdout",
     "output_type": "stream",
     "text": [
      "15075\n",
      "The number of class 1 which represent this tweet talks about coronavirus:  7267\n",
      "The number of class 0 which represent this tweet not talks about coronavirus:  7808\n"
     ]
    },
    {
     "data": {
      "text/html": [
       "<div>\n",
       "<style scoped>\n",
       "    .dataframe tbody tr th:only-of-type {\n",
       "        vertical-align: middle;\n",
       "    }\n",
       "\n",
       "    .dataframe tbody tr th {\n",
       "        vertical-align: top;\n",
       "    }\n",
       "\n",
       "    .dataframe thead th {\n",
       "        text-align: right;\n",
       "    }\n",
       "</style>\n",
       "<table border=\"1\" class=\"dataframe\">\n",
       "  <thead>\n",
       "    <tr style=\"text-align: right;\">\n",
       "      <th></th>\n",
       "      <th>class</th>\n",
       "      <th>tweet_text</th>\n",
       "    </tr>\n",
       "  </thead>\n",
       "  <tbody>\n",
       "    <tr>\n",
       "      <th>0</th>\n",
       "      <td>1</td>\n",
       "      <td>طب مسلمين الصين اللي بيموتو الفيرس ذنب برده  ا...</td>\n",
       "    </tr>\n",
       "    <tr>\n",
       "      <th>1</th>\n",
       "      <td>1</td>\n",
       "      <td>علي ما اذكر معظم الفيروسات  ما عدا الايبولا  ك...</td>\n",
       "    </tr>\n",
       "    <tr>\n",
       "      <th>2</th>\n",
       "      <td>1</td>\n",
       "      <td>اميركا السبب لضرب الاقتصاد الصيني وتركيع الصين...</td>\n",
       "    </tr>\n",
       "    <tr>\n",
       "      <th>3</th>\n",
       "      <td>1</td>\n",
       "      <td>قلنا نقاطع الصين    الناس قالت مش ممكن الان مق...</td>\n",
       "    </tr>\n",
       "    <tr>\n",
       "      <th>4</th>\n",
       "      <td>1</td>\n",
       "      <td>نصحيتين اقدمها لك  1  لا تتروش في البرد  2  اح...</td>\n",
       "    </tr>\n",
       "  </tbody>\n",
       "</table>\n",
       "</div>"
      ],
      "text/plain": [
       "   class                                         tweet_text\n",
       "0      1  طب مسلمين الصين اللي بيموتو الفيرس ذنب برده  ا...\n",
       "1      1  علي ما اذكر معظم الفيروسات  ما عدا الايبولا  ك...\n",
       "2      1  اميركا السبب لضرب الاقتصاد الصيني وتركيع الصين...\n",
       "3      1  قلنا نقاطع الصين    الناس قالت مش ممكن الان مق...\n",
       "4      1  نصحيتين اقدمها لك  1  لا تتروش في البرد  2  اح..."
      ]
     },
     "execution_count": 6,
     "metadata": {},
     "output_type": "execute_result"
    }
   ],
   "source": [
    "df_file = pd.read_csv(analysis_direction_path_tweets + 'train_test_data/last_classifed_tweets_to_model_on_over_15000_tweets.csv', lineterminator='\\n', error_bad_lines=False)\n",
    "df_file.dropna(inplace=True)\n",
    "print(len(df_file))\n",
    "print(\"The number of class 1 which represent this tweet talks about coronavirus: \", len(df_file[df_file['class'] == 1]))\n",
    "print(\"The number of class 0 which represent this tweet not talks about coronavirus: \", len(df_file[df_file['class'] == 0]))\n",
    "df_file.head()"
   ]
  },
  {
   "cell_type": "markdown",
   "metadata": {},
   "source": [
    "# Features Engineering"
   ]
  },
  {
   "cell_type": "code",
   "execution_count": 7,
   "metadata": {},
   "outputs": [
    {
     "name": "stdout",
     "output_type": "stream",
     "text": [
      "The firt 5 reviews are:  [['طب', 'مسلمين', 'الصين', 'اللي', 'بيموتو', 'الفيرس', 'ذنب', 'برده', 'الوباء', 'مبيفرقش', 'تقي'], ['علي', 'ما', 'اذكر', 'معظم', 'الفيروسات', 'ما', 'عدا', 'الايبولا', 'كلها', 'مصدرها', 'الصين'], ['اميركا', 'السبب', 'لضرب', 'الاقتصاد', 'الصيني', 'وتركيع', 'الصين', 'بعتت', 'فيروس']]\n"
     ]
    }
   ],
   "source": [
    "text_list = list(df_file['tweet_text'])\n",
    "text_list = [i.split() for i in text_list] # split each review to list of words\n",
    "print(\"The firt 5 reviews are: \", text_list[:3])\n",
    "\n",
    "\n",
    "number_of_features = 300\n",
    "window_size = 7\n",
    "min_words_count = 1"
   ]
  },
  {
   "cell_type": "code",
   "execution_count": 8,
   "metadata": {
    "collapsed": true
   },
   "outputs": [],
   "source": [
    "def word_to_vec(text_list, number_of_features, window_size, min_words_count):\n",
    "    '''\n",
    "    Argument:\n",
    "        list of strings and each string is list of words\n",
    "        size = extract 50 features for each word\n",
    "        window = 7 take the context of neighbour words\n",
    "        min_count = 1 consider each word that even repeated 1 time\n",
    "    return:\n",
    "        the word2vec model\n",
    "    '''\n",
    "    word_to_vec_model = Word2Vec(text_list, size =number_of_features, window = window_size, min_count=min_words_count, sg = 1) \n",
    "    print(\"Our word2vec model: \", word_to_vec_model)\n",
    "    print(\"The number of frequent words of our data: \", len(word_to_vec_model.wv.vocab)) # the frequent words\n",
    "    # save model\n",
    "    word_to_vec_model.save('models_weights/word2vec/word2vec_features.bin')\n",
    "\n",
    "    # load model\n",
    "    word_to_vec_model = Word2Vec.load('models_weights/word2vec/word2vec_features.bin')\n",
    "    return word_to_vec_model"
   ]
  },
  {
   "cell_type": "code",
   "execution_count": 9,
   "metadata": {},
   "outputs": [
    {
     "name": "stdout",
     "output_type": "stream",
     "text": [
      "Our word2vec model:  Word2Vec(vocab=57484, size=300, alpha=0.025)\n",
      "The number of frequent words of our data:  57484\n"
     ]
    }
   ],
   "source": [
    "word_to_vec_model = word_to_vec(text_list, number_of_features, window_size, min_words_count)"
   ]
  },
  {
   "cell_type": "code",
   "execution_count": 10,
   "metadata": {},
   "outputs": [
    {
     "name": "stdout",
     "output_type": "stream",
     "text": [
      "Feature of some words\n",
      " [ 0.07159312  0.12956184  0.07943423 -0.13488112 -0.0868281  -0.05562469\n",
      "  0.0411917  -0.0033188   0.02448485 -0.08941628  0.05145119  0.16429023\n",
      " -0.1935044   0.19402558 -0.15221992  0.03427834 -0.06343645 -0.17944591\n",
      "  0.00603614 -0.08315802 -0.03159866 -0.07149523 -0.01849223  0.22835502\n",
      " -0.03646809  0.0013304  -0.05068896 -0.01821022 -0.10213733 -0.2083903\n",
      "  0.04098757 -0.01908511  0.0990761  -0.02304327 -0.0463382  -0.24118362\n",
      " -0.02687977  0.00984727 -0.03448062 -0.06105231 -0.00097546 -0.13894783\n",
      "  0.06882231 -0.04954067 -0.1485882   0.06883712  0.03336613 -0.08112241\n",
      "  0.02900468  0.03563498]\n"
     ]
    },
    {
     "name": "stderr",
     "output_type": "stream",
     "text": [
      "/home/abdelrahman/anaconda3/lib/python3.6/site-packages/ipykernel_launcher.py:1: DeprecationWarning: Call to deprecated `__getitem__` (Method will be removed in 4.0.0, use self.wv.__getitem__() instead).\n",
      "  \"\"\"Entry point for launching an IPython kernel.\n"
     ]
    }
   ],
   "source": [
    "print(\"Feature of some words\\n\", word_to_vec_model['ممتاز'][:50]) # first 50 features"
   ]
  },
  {
   "cell_type": "code",
   "execution_count": 11,
   "metadata": {},
   "outputs": [
    {
     "name": "stderr",
     "output_type": "stream",
     "text": [
      "/home/abdelrahman/anaconda3/lib/python3.6/site-packages/ipykernel_launcher.py:1: DeprecationWarning: Call to deprecated `most_similar` (Method will be removed in 4.0.0, use self.wv.most_similar() instead).\n",
      "  \"\"\"Entry point for launching an IPython kernel.\n"
     ]
    },
    {
     "data": {
      "text/plain": [
       "[('كورونا_الجديد', 0.8745729923248291),\n",
       " ('الجديد', 0.8651182651519775),\n",
       " ('فيروس_كورونا', 0.8538630604743958),\n",
       " ('مخاوف', 0.845136284828186),\n",
       " ('القاتل', 0.8410530090332031),\n",
       " ('عالمي', 0.8361520767211914),\n",
       " ('حدودها', 0.8341037034988403),\n",
       " ('تاثير', 0.8300197720527649),\n",
       " ('غامض', 0.8267508149147034),\n",
       " ('لمنع', 0.8252075910568237)]"
      ]
     },
     "execution_count": 11,
     "metadata": {},
     "output_type": "execute_result"
    }
   ],
   "source": [
    "word_to_vec_model.most_similar('كورونا')"
   ]
  },
  {
   "cell_type": "code",
   "execution_count": 12,
   "metadata": {},
   "outputs": [
    {
     "name": "stderr",
     "output_type": "stream",
     "text": [
      "/home/abdelrahman/anaconda3/lib/python3.6/site-packages/ipykernel_launcher.py:1: DeprecationWarning: Call to deprecated `most_similar` (Method will be removed in 4.0.0, use self.wv.most_similar() instead).\n",
      "  \"\"\"Entry point for launching an IPython kernel.\n"
     ]
    },
    {
     "data": {
      "text/plain": [
       "[('الفيروس', 0.8730694055557251),\n",
       " ('لفيروس', 0.8620957136154175),\n",
       " ('فايروس', 0.8611817359924316),\n",
       " ('الجديد', 0.856784462928772),\n",
       " ('بحزم', 0.8457692265510559),\n",
       " ('توقيع', 0.8427802324295044),\n",
       " ('الرءيس', 0.8423230051994324),\n",
       " ('القاتل', 0.8409960269927979),\n",
       " ('العالمي', 0.8377662897109985),\n",
       " ('الاتفاق', 0.835684061050415)]"
      ]
     },
     "execution_count": 12,
     "metadata": {},
     "output_type": "execute_result"
    }
   ],
   "source": [
    "word_to_vec_model.most_similar('فيروس')"
   ]
  },
  {
   "cell_type": "code",
   "execution_count": 17,
   "metadata": {},
   "outputs": [
    {
     "name": "stderr",
     "output_type": "stream",
     "text": [
      "/home/abdelrahman/anaconda3/lib/python3.6/site-packages/ipykernel_launcher.py:8: DeprecationWarning: Call to deprecated `__getitem__` (Method will be removed in 4.0.0, use self.wv.__getitem__() instead).\n",
      "  \n"
     ]
    },
    {
     "name": "stdout",
     "output_type": "stream",
     "text": [
      "The shape of our word_features is: (300, 300)\n"
     ]
    },
    {
     "name": "stderr",
     "output_type": "stream",
     "text": [
      "/home/abdelrahman/anaconda3/lib/python3.6/site-packages/matplotlib/backends/backend_agg.py:214: RuntimeWarning: Glyph 65010 missing from current font.\n",
      "  font.set_text(s, 0.0, flags=flags)\n",
      "/home/abdelrahman/anaconda3/lib/python3.6/site-packages/matplotlib/backends/backend_agg.py:183: RuntimeWarning: Glyph 65010 missing from current font.\n",
      "  font.set_text(s, 0, flags=flags)\n"
     ]
    },
    {
     "data": {
      "image/png": "[encoded data removed]",
      "text/plain": [
       "<Figure size 864x864 with 1 Axes>"
      ]
     },
     "metadata": {},
     "output_type": "display_data"
    }
   ],
   "source": [
    " # retrieve frequent words\n",
    "words = list(word_to_vec_model.wv.vocab)\n",
    "\n",
    "# I took just 100 words to present with PCA\n",
    "words = words[:300]\n",
    "\n",
    "# get the features of those 100 word\n",
    "word_features = word_to_vec_model[words] \n",
    "\n",
    "# it will be 100 word * 50 which 50 feature of each word\n",
    "print(\"The shape of our word_features is:\", word_features.shape)\n",
    "\n",
    "# Dimension reduction to display so instead of 50 dimension of each word \n",
    "#reduce to 2 dimensional that have fine display\n",
    "# from 50 features to just 2 features for displaying how words related words to gether\n",
    "pca = PCA(n_components=2)\n",
    "\n",
    "# fit the model\n",
    "xy_words = pca.fit_transform(word_features)\n",
    "\n",
    "# set the visualization plot\n",
    "plt.style.use(['dark_background'])\n",
    "plt.figure(figsize=(12,12))\n",
    "\n",
    "# after reduction for all features in first column as x and all features from second column as y\n",
    "plt.scatter(xy_words[:, 0], xy_words[:, 1], marker='P',s=30, c=\"red\") \n",
    "\n",
    "for i, word in enumerate(words):\n",
    "    # handle Arabic words to display from right to left and as complete word not just separate chars\n",
    "    word = arabic_reshaper.reshape(word) # handle arabic words on ploting\n",
    "    word = get_display(word)\n",
    "    # plot each word beside its point\n",
    "    plt.annotate(word, xy=(xy_words[i, 0], xy_words[i, 1]))\n",
    "plt.show()"
   ]
  },
  {
   "cell_type": "code",
   "execution_count": 20,
   "metadata": {},
   "outputs": [
    {
     "name": "stdout",
     "output_type": "stream",
     "text": [
      "63\n"
     ]
    }
   ],
   "source": [
    "max_len_str = max([len(tweet) for tweet in text_list])\n",
    "print(max_len_str)"
   ]
  },
  {
   "cell_type": "code",
   "execution_count": 22,
   "metadata": {},
   "outputs": [
    {
     "name": "stdout",
     "output_type": "stream",
     "text": [
      "['استقدمو الصين وزراء ربعنا ماههم كفو', ' اكثر ما نستطيع فعله مقاطعه الصين باكبر قدر ممكن والتحريض علي المقاطعه افراد وشركات لعلها تتطور لحكومات   ', ' سمعنا_صوتك_ياهادي الحمله حملت سفير الصين علي الذهاب ابن منصور يتفاقده عاده موجود ويبدو لقي الضاءعه حقنا بالله خرجوه ولو بكيس قمامه وبعدين نتفاهم ههههههه   ']\n",
      "['ربنا احفظك واحميك واغطي واردك سالم غانم وكل اخوانا الفي الصين   لاينسانا ولا ينساكم   اعمل حسابك   شا الله متلمي علي شباب سودانين', ' الرياض\\n  الصين تستبدل الالعاب الناريه والليزر بطاءرات الدروز للاحتفال براس السنه لاول مره \\n  تطور مذهل ربما ينهي عصر الالعاب الناريه  ', 'لو سمعحتوا فعلا الفايرس كورونا ياثر علي المنتجات        توني طالبه منكم وقالوا لاحد يطلب عشان الفايرس اللي بالصين  ']\n",
      "[['استقدمو', 'الصين', 'وزراء', 'ربعنا', 'ماههم', 'كفو'], ['اكثر', 'ما', 'نستطيع', 'فعله', 'مقاطعه', 'الصين', 'باكبر', 'قدر', 'ممكن', 'والتحريض', 'علي', 'المقاطعه', 'افراد', 'وشركات', 'لعلها', 'تتطور', 'لحكومات'], ['سمعنا_صوتك_ياهادي', 'الحمله', 'حملت', 'سفير', 'الصين', 'علي', 'الذهاب', 'ابن', 'منصور', 'يتفاقده', 'عاده', 'موجود', 'ويبدو', 'لقي', 'الضاءعه', 'حقنا', 'بالله', 'خرجوه', 'ولو', 'بكيس', 'قمامه', 'وبعدين', 'نتفاهم', 'ههههههه']]\n",
      "[['ربنا', 'احفظك', 'واحميك', 'واغطي', 'واردك', 'سالم', 'غانم', 'وكل', 'اخوانا', 'الفي', 'الصين', 'لاينسانا', 'ولا', 'ينساكم', 'اعمل', 'حسابك', 'شا', 'الله', 'متلمي', 'علي', 'شباب', 'سودانين'], ['الرياض', 'الصين', 'تستبدل', 'الالعاب', 'الناريه', 'والليزر', 'بطاءرات', 'الدروز', 'للاحتفال', 'براس', 'السنه', 'لاول', 'مره', 'تطور', 'مذهل', 'ربما', 'ينهي', 'عصر', 'الالعاب', 'الناريه'], ['لو', 'سمعحتوا', 'فعلا', 'الفايرس', 'كورونا', 'ياثر', 'علي', 'المنتجات', 'توني', 'طالبه', 'منكم', 'وقالوا', 'لاحد', 'يطلب', 'عشان', 'الفايرس', 'اللي', 'بالصين']]\n"
     ]
    }
   ],
   "source": [
    "tweets_train = list(tweets_train)\n",
    "tweets_test = list(tweets_test)\n",
    "\n",
    "# Before\n",
    "print(tweets_train[:3])\n",
    "print(tweets_test[:3])\n",
    "\n",
    "tweets_train_splited = [tweet.split() for tweet in tweets_train] \n",
    "tweets_test_splited = [tweet.split() for tweet in tweets_test] \n",
    "\n",
    "# After\n",
    "print(tweets_train_splited[:3])\n",
    "print(tweets_test_splited[:3])"
   ]
  },
  {
   "cell_type": "code",
   "execution_count": 23,
   "metadata": {},
   "outputs": [
    {
     "name": "stdout",
     "output_type": "stream",
     "text": [
      "The shape of matrix (12060, 18900)\n"
     ]
    },
    {
     "name": "stderr",
     "output_type": "stream",
     "text": [
      "/home/abdelrahman/anaconda3/lib/python3.6/site-packages/ipykernel_launcher.py:18: DeprecationWarning: Call to deprecated `__getitem__` (Method will be removed in 4.0.0, use self.wv.__getitem__() instead).\n"
     ]
    }
   ],
   "source": [
    "train_embedding_matrix = word_2_vec_matrix(tweets_train_splited, word_to_vec_model, number_of_features, max_len_str)"
   ]
  },
  {
   "cell_type": "code",
   "execution_count": 24,
   "metadata": {},
   "outputs": [
    {
     "name": "stdout",
     "output_type": "stream",
     "text": [
      "(12060, 18900)\n"
     ]
    }
   ],
   "source": [
    "print(train_embedding_matrix.shape)"
   ]
  },
  {
   "cell_type": "code",
   "execution_count": 25,
   "metadata": {
    "collapsed": true
   },
   "outputs": [],
   "source": [
    "param_grid = [\n",
    "    {'penalty' : ['l1', 'l2'],\n",
    "    'C' : np.linspace(.01, 2, 5),\n",
    "    'solver' : ['liblinear'],\n",
    "    'multi_class': ['ovr'],\n",
    "    'max_iter': [100, 1000]},\n",
    "    \n",
    "]\n",
    "model1 = LogisticRegression()\n",
    "logreg_model_search1 = grid_search(model1, param_grid, train_embedding_matrix, target_train)\n"
   ]
  },
  {
   "cell_type": "code",
   "execution_count": 26,
   "metadata": {},
   "outputs": [
    {
     "name": "stdout",
     "output_type": "stream",
     "text": [
      "0.669485903814262 {'C': 0.01, 'max_iter': 100, 'multi_class': 'ovr', 'penalty': 'l1', 'solver': 'liblinear'}\n",
      "0.8158374792703151 {'C': 0.01, 'max_iter': 100, 'multi_class': 'ovr', 'penalty': 'l2', 'solver': 'liblinear'}\n",
      "0.6696517412935323 {'C': 0.01, 'max_iter': 1000, 'multi_class': 'ovr', 'penalty': 'l1', 'solver': 'liblinear'}\n",
      "0.8158374792703151 {'C': 0.01, 'max_iter': 1000, 'multi_class': 'ovr', 'penalty': 'l2', 'solver': 'liblinear'}\n",
      "0.846849087893864 {'C': 0.5075, 'max_iter': 100, 'multi_class': 'ovr', 'penalty': 'l1', 'solver': 'liblinear'}\n",
      "0.8546434494195688 {'C': 0.5075, 'max_iter': 100, 'multi_class': 'ovr', 'penalty': 'l2', 'solver': 'liblinear'}\n",
      "0.8466832504145938 {'C': 0.5075, 'max_iter': 1000, 'multi_class': 'ovr', 'penalty': 'l1', 'solver': 'liblinear'}\n",
      "0.8546434494195688 {'C': 0.5075, 'max_iter': 1000, 'multi_class': 'ovr', 'penalty': 'l2', 'solver': 'liblinear'}\n",
      "0.8534825870646767 {'C': 1.005, 'max_iter': 100, 'multi_class': 'ovr', 'penalty': 'l1', 'solver': 'liblinear'}\n",
      "0.856882255389718 {'C': 1.005, 'max_iter': 100, 'multi_class': 'ovr', 'penalty': 'l2', 'solver': 'liblinear'}\n",
      "0.8533996683250414 {'C': 1.005, 'max_iter': 1000, 'multi_class': 'ovr', 'penalty': 'l1', 'solver': 'liblinear'}\n",
      "0.856882255389718 {'C': 1.005, 'max_iter': 1000, 'multi_class': 'ovr', 'penalty': 'l2', 'solver': 'liblinear'}\n",
      "0.8575456053067994 {'C': 1.5025, 'max_iter': 100, 'multi_class': 'ovr', 'penalty': 'l1', 'solver': 'liblinear'}\n",
      "0.8582918739635158 {'C': 1.5025, 'max_iter': 100, 'multi_class': 'ovr', 'penalty': 'l2', 'solver': 'liblinear'}\n",
      "0.8576285240464345 {'C': 1.5025, 'max_iter': 1000, 'multi_class': 'ovr', 'penalty': 'l1', 'solver': 'liblinear'}\n",
      "0.8582918739635158 {'C': 1.5025, 'max_iter': 1000, 'multi_class': 'ovr', 'penalty': 'l2', 'solver': 'liblinear'}\n",
      "0.8598673300165837 {'C': 2.0, 'max_iter': 100, 'multi_class': 'ovr', 'penalty': 'l1', 'solver': 'liblinear'}\n",
      "0.8578772802653398 {'C': 2.0, 'max_iter': 100, 'multi_class': 'ovr', 'penalty': 'l2', 'solver': 'liblinear'}\n",
      "0.8597014925373134 {'C': 2.0, 'max_iter': 1000, 'multi_class': 'ovr', 'penalty': 'l1', 'solver': 'liblinear'}\n",
      "0.8578772802653398 {'C': 2.0, 'max_iter': 1000, 'multi_class': 'ovr', 'penalty': 'l2', 'solver': 'liblinear'}\n"
     ]
    },
    {
     "data": {
      "text/plain": [
       "True"
      ]
     },
     "execution_count": 26,
     "metadata": {},
     "output_type": "execute_result"
    }
   ],
   "source": [
    "check_search_params(logreg_model_search1)"
   ]
  },
  {
   "cell_type": "code",
   "execution_count": 27,
   "metadata": {},
   "outputs": [
    {
     "data": {
      "text/plain": [
       "LogisticRegression(C=2.0, multi_class='ovr', penalty='l1', solver='liblinear')"
      ]
     },
     "execution_count": 27,
     "metadata": {},
     "output_type": "execute_result"
    }
   ],
   "source": [
    "logreg_model_search1.best_estimator_"
   ]
  },
  {
   "cell_type": "code",
   "execution_count": 28,
   "metadata": {},
   "outputs": [
    {
     "name": "stdout",
     "output_type": "stream",
     "text": [
      "The shape of matrix (3014, 18900)\n"
     ]
    },
    {
     "name": "stderr",
     "output_type": "stream",
     "text": [
      "/home/abdelrahman/anaconda3/lib/python3.6/site-packages/ipykernel_launcher.py:18: DeprecationWarning: Call to deprecated `__getitem__` (Method will be removed in 4.0.0, use self.wv.__getitem__() instead).\n"
     ]
    }
   ],
   "source": [
    "test_embedding_matrix = word_2_vec_matrix(tweets_test_splited, word_to_vec_model, number_of_features, max_len_str)"
   ]
  },
  {
   "cell_type": "code",
   "execution_count": 29,
   "metadata": {},
   "outputs": [
    {
     "name": "stdout",
     "output_type": "stream",
     "text": [
      "===================== Training Result =====================\n",
      "F1 score of our training data is:  0.9018242122719735\n",
      "Evalution Matrix of training data is \n",
      " [[5931  315]\n",
      " [ 869 4945]]\n",
      "===================== Testing Result =====================\n",
      "F1 score of our Testing data is:  0.8629727936297278\n",
      "Evalution Matrix of Testing data is \n",
      " [[1438  123]\n",
      " [ 290 1163]]\n"
     ]
    },
    {
     "data": {
      "text/plain": [
       "True"
      ]
     },
     "execution_count": 29,
     "metadata": {},
     "output_type": "execute_result"
    }
   ],
   "source": [
    "logreg_model = LogisticRegression(C=2.0, multi_class='ovr', penalty='l1', solver='liblinear')\n",
    "logreg_model.fit(train_embedding_matrix, target_train)\n",
    "\n",
    "model_predict_train__test_data(logreg_model, train_embedding_matrix, target_train,\n",
    "                              test_embedding_matrix, target_test)"
   ]
  },
  {
   "cell_type": "code",
   "execution_count": 30,
   "metadata": {
    "collapsed": true
   },
   "outputs": [],
   "source": [
    "pickle.dump(logreg_model, open('models_weights/logistic_regression/word2vec_LogisticRegression_90tr_86ts.sav', 'wb'))"
   ]
  },
  {
   "cell_type": "code",
   "execution_count": 31,
   "metadata": {
    "collapsed": true
   },
   "outputs": [],
   "source": [
    "param_grid = [\n",
    "    {'penalty' : ['l1'],\n",
    "    'C' : np.linspace(2, 4, 5),\n",
    "    'solver' : ['liblinear'],\n",
    "    'multi_class': ['ovr'],\n",
    "    'max_iter': [1000]},\n",
    "    \n",
    "]\n",
    "model2 = LogisticRegression()\n",
    "logreg_model_search2 = grid_search(model2, param_grid, train_embedding_matrix, target_train)\n"
   ]
  },
  {
   "cell_type": "code",
   "execution_count": 32,
   "metadata": {},
   "outputs": [
    {
     "data": {
      "text/plain": [
       "LogisticRegression(C=2.0, multi_class='ovr', penalty='l1', solver='liblinear')"
      ]
     },
     "execution_count": 32,
     "metadata": {},
     "output_type": "execute_result"
    }
   ],
   "source": [
    "logreg_model_search1.best_estimator_"
   ]
  },
  {
   "cell_type": "code",
   "execution_count": 33,
   "metadata": {},
   "outputs": [
    {
     "name": "stdout",
     "output_type": "stream",
     "text": [
      "0.669485903814262 {'C': 0.01, 'max_iter': 100, 'multi_class': 'ovr', 'penalty': 'l1', 'solver': 'liblinear'}\n",
      "0.8158374792703151 {'C': 0.01, 'max_iter': 100, 'multi_class': 'ovr', 'penalty': 'l2', 'solver': 'liblinear'}\n",
      "0.6696517412935323 {'C': 0.01, 'max_iter': 1000, 'multi_class': 'ovr', 'penalty': 'l1', 'solver': 'liblinear'}\n",
      "0.8158374792703151 {'C': 0.01, 'max_iter': 1000, 'multi_class': 'ovr', 'penalty': 'l2', 'solver': 'liblinear'}\n",
      "0.846849087893864 {'C': 0.5075, 'max_iter': 100, 'multi_class': 'ovr', 'penalty': 'l1', 'solver': 'liblinear'}\n",
      "0.8546434494195688 {'C': 0.5075, 'max_iter': 100, 'multi_class': 'ovr', 'penalty': 'l2', 'solver': 'liblinear'}\n",
      "0.8466832504145938 {'C': 0.5075, 'max_iter': 1000, 'multi_class': 'ovr', 'penalty': 'l1', 'solver': 'liblinear'}\n",
      "0.8546434494195688 {'C': 0.5075, 'max_iter': 1000, 'multi_class': 'ovr', 'penalty': 'l2', 'solver': 'liblinear'}\n",
      "0.8534825870646767 {'C': 1.005, 'max_iter': 100, 'multi_class': 'ovr', 'penalty': 'l1', 'solver': 'liblinear'}\n",
      "0.856882255389718 {'C': 1.005, 'max_iter': 100, 'multi_class': 'ovr', 'penalty': 'l2', 'solver': 'liblinear'}\n",
      "0.8533996683250414 {'C': 1.005, 'max_iter': 1000, 'multi_class': 'ovr', 'penalty': 'l1', 'solver': 'liblinear'}\n",
      "0.856882255389718 {'C': 1.005, 'max_iter': 1000, 'multi_class': 'ovr', 'penalty': 'l2', 'solver': 'liblinear'}\n",
      "0.8575456053067994 {'C': 1.5025, 'max_iter': 100, 'multi_class': 'ovr', 'penalty': 'l1', 'solver': 'liblinear'}\n",
      "0.8582918739635158 {'C': 1.5025, 'max_iter': 100, 'multi_class': 'ovr', 'penalty': 'l2', 'solver': 'liblinear'}\n",
      "0.8576285240464345 {'C': 1.5025, 'max_iter': 1000, 'multi_class': 'ovr', 'penalty': 'l1', 'solver': 'liblinear'}\n",
      "0.8582918739635158 {'C': 1.5025, 'max_iter': 1000, 'multi_class': 'ovr', 'penalty': 'l2', 'solver': 'liblinear'}\n",
      "0.8598673300165837 {'C': 2.0, 'max_iter': 100, 'multi_class': 'ovr', 'penalty': 'l1', 'solver': 'liblinear'}\n",
      "0.8578772802653398 {'C': 2.0, 'max_iter': 100, 'multi_class': 'ovr', 'penalty': 'l2', 'solver': 'liblinear'}\n",
      "0.8597014925373134 {'C': 2.0, 'max_iter': 1000, 'multi_class': 'ovr', 'penalty': 'l1', 'solver': 'liblinear'}\n",
      "0.8578772802653398 {'C': 2.0, 'max_iter': 1000, 'multi_class': 'ovr', 'penalty': 'l2', 'solver': 'liblinear'}\n"
     ]
    },
    {
     "data": {
      "text/plain": [
       "True"
      ]
     },
     "execution_count": 33,
     "metadata": {},
     "output_type": "execute_result"
    }
   ],
   "source": [
    "check_search_params(logreg_model_search1)"
   ]
  },
  {
   "cell_type": "code",
   "execution_count": 34,
   "metadata": {},
   "outputs": [
    {
     "name": "stdout",
     "output_type": "stream",
     "text": [
      "===================== Training Result =====================\n",
      "F1 score of our training data is:  0.9016583747927032\n",
      "Evalution Matrix of training data is \n",
      " [[5930  316]\n",
      " [ 870 4944]]\n",
      "===================== Testing Result =====================\n",
      "F1 score of our Testing data is:  0.8636363636363636\n",
      "Evalution Matrix of Testing data is \n",
      " [[1440  121]\n",
      " [ 290 1163]]\n"
     ]
    },
    {
     "data": {
      "text/plain": [
       "True"
      ]
     },
     "execution_count": 34,
     "metadata": {},
     "output_type": "execute_result"
    }
   ],
   "source": [
    "logreg_model2 = LogisticRegression(C=2.0, multi_class='ovr', penalty='l1', solver='liblinear')\n",
    "logreg_model2.fit(train_embedding_matrix, target_train)\n",
    "\n",
    "model_predict_train__test_data(logreg_model2, train_embedding_matrix, target_train,\n",
    "                              test_embedding_matrix, target_test)"
   ]
  },
  {
   "cell_type": "code",
   "execution_count": null,
   "metadata": {
    "collapsed": true
   },
   "outputs": [],
   "source": []
  }
 ],
 "metadata": {
  "kernelspec": {
   "display_name": "Python 3",
   "language": "python",
   "name": "python3"
  },
  "language_info": {
   "codemirror_mode": {
    "name": "ipython",
    "version": 3
   },
   "file_extension": ".py",
   "mimetype": "text/x-python",
   "name": "python",
   "nbconvert_exporter": "python",
   "pygments_lexer": "ipython3",
   "version": "3.6.9"
  }
 },
 "nbformat": 4,
 "nbformat_minor": 2
}
