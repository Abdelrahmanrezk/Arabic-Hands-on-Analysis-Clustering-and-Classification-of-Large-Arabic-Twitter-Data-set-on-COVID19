{
 "cells": [
  {
   "cell_type": "code",
   "execution_count": 14,
   "metadata": {
    "collapsed": true
   },
   "outputs": [],
   "source": [
    "import pandas as pd\n",
    "# To save model weights and features\n",
    "import pickle\n",
    "# models\n",
    "from gensim.models import Word2Vec\n",
    "from sklearn.svm import SVC\n",
    "from model_config import *"
   ]
  },
  {
   "cell_type": "markdown",
   "metadata": {},
   "source": [
    "# Read Training and Testing Data"
   ]
  },
  {
   "cell_type": "code",
   "execution_count": 2,
   "metadata": {
    "collapsed": true
   },
   "outputs": [],
   "source": [
    "start_train_set =pd.read_csv(analysis_direction_path_tweets + 'train_test_data/train_set.csv',  lineterminator='\\n', error_bad_lines=False)\n",
    "start_train_set.dropna(inplace=True)\n",
    "start_test_set  = pd.read_csv(analysis_direction_path_tweets + 'train_test_data/test_set.csv',  lineterminator='\\n', error_bad_lines=False)\n",
    "start_test_set.dropna(inplace=True)"
   ]
  },
  {
   "cell_type": "code",
   "execution_count": 3,
   "metadata": {},
   "outputs": [
    {
     "name": "stdout",
     "output_type": "stream",
     "text": [
      "<class 'pandas.core.frame.DataFrame'>\n",
      "Int64Index: 12060 entries, 0 to 12059\n",
      "Data columns (total 2 columns):\n",
      "class         12060 non-null int64\n",
      "tweet_text    12060 non-null object\n",
      "dtypes: int64(1), object(1)\n",
      "memory usage: 282.7+ KB\n",
      "None\n"
     ]
    },
    {
     "data": {
      "text/html": [
       "<div>\n",
       "<style scoped>\n",
       "    .dataframe tbody tr th:only-of-type {\n",
       "        vertical-align: middle;\n",
       "    }\n",
       "\n",
       "    .dataframe tbody tr th {\n",
       "        vertical-align: top;\n",
       "    }\n",
       "\n",
       "    .dataframe thead th {\n",
       "        text-align: right;\n",
       "    }\n",
       "</style>\n",
       "<table border=\"1\" class=\"dataframe\">\n",
       "  <thead>\n",
       "    <tr style=\"text-align: right;\">\n",
       "      <th></th>\n",
       "      <th>class</th>\n",
       "      <th>tweet_text</th>\n",
       "    </tr>\n",
       "  </thead>\n",
       "  <tbody>\n",
       "    <tr>\n",
       "      <th>0</th>\n",
       "      <td>0</td>\n",
       "      <td>استقدمو الصين وزراء ربعنا ماههم كفو</td>\n",
       "    </tr>\n",
       "    <tr>\n",
       "      <th>1</th>\n",
       "      <td>0</td>\n",
       "      <td>اكثر ما نستطيع فعله مقاطعه الصين باكبر قدر مم...</td>\n",
       "    </tr>\n",
       "    <tr>\n",
       "      <th>2</th>\n",
       "      <td>0</td>\n",
       "      <td>سمعنا_صوتك_ياهادي الحمله حملت سفير الصين علي ...</td>\n",
       "    </tr>\n",
       "    <tr>\n",
       "      <th>3</th>\n",
       "      <td>0</td>\n",
       "      <td>اوزيل حتي باشد فتراته سوءا كان يتحفنا بتمريرات...</td>\n",
       "    </tr>\n",
       "    <tr>\n",
       "      <th>4</th>\n",
       "      <td>0</td>\n",
       "      <td>لك بان الامريكان اقويا فقد كذب عزيزي قوه الامر...</td>\n",
       "    </tr>\n",
       "  </tbody>\n",
       "</table>\n",
       "</div>"
      ],
      "text/plain": [
       "   class                                         tweet_text\n",
       "0      0                استقدمو الصين وزراء ربعنا ماههم كفو\n",
       "1      0   اكثر ما نستطيع فعله مقاطعه الصين باكبر قدر مم...\n",
       "2      0   سمعنا_صوتك_ياهادي الحمله حملت سفير الصين علي ...\n",
       "3      0  اوزيل حتي باشد فتراته سوءا كان يتحفنا بتمريرات...\n",
       "4      0  لك بان الامريكان اقويا فقد كذب عزيزي قوه الامر..."
      ]
     },
     "execution_count": 3,
     "metadata": {},
     "output_type": "execute_result"
    }
   ],
   "source": [
    "# look how the train set is shuffle\n",
    "start_train_set.dropna()\n",
    "print(start_train_set.info())\n",
    "start_train_set.head(5)"
   ]
  },
  {
   "cell_type": "code",
   "execution_count": 4,
   "metadata": {},
   "outputs": [
    {
     "name": "stdout",
     "output_type": "stream",
     "text": [
      "<class 'pandas.core.frame.DataFrame'>\n",
      "Int64Index: 3014 entries, 0 to 3014\n",
      "Data columns (total 2 columns):\n",
      "class         3014 non-null int64\n",
      "tweet_text    3014 non-null object\n",
      "dtypes: int64(1), object(1)\n",
      "memory usage: 70.6+ KB\n",
      "None\n"
     ]
    },
    {
     "data": {
      "text/html": [
       "<div>\n",
       "<style scoped>\n",
       "    .dataframe tbody tr th:only-of-type {\n",
       "        vertical-align: middle;\n",
       "    }\n",
       "\n",
       "    .dataframe tbody tr th {\n",
       "        vertical-align: top;\n",
       "    }\n",
       "\n",
       "    .dataframe thead th {\n",
       "        text-align: right;\n",
       "    }\n",
       "</style>\n",
       "<table border=\"1\" class=\"dataframe\">\n",
       "  <thead>\n",
       "    <tr style=\"text-align: right;\">\n",
       "      <th></th>\n",
       "      <th>class</th>\n",
       "      <th>tweet_text</th>\n",
       "    </tr>\n",
       "  </thead>\n",
       "  <tbody>\n",
       "    <tr>\n",
       "      <th>0</th>\n",
       "      <td>1</td>\n",
       "      <td>ربنا احفظك واحميك واغطي واردك سالم غانم وكل اخ...</td>\n",
       "    </tr>\n",
       "    <tr>\n",
       "      <th>1</th>\n",
       "      <td>0</td>\n",
       "      <td>الرياض\\n  الصين تستبدل الالعاب الناريه والليز...</td>\n",
       "    </tr>\n",
       "    <tr>\n",
       "      <th>2</th>\n",
       "      <td>1</td>\n",
       "      <td>لو سمعحتوا فعلا الفايرس كورونا ياثر علي المنتج...</td>\n",
       "    </tr>\n",
       "    <tr>\n",
       "      <th>3</th>\n",
       "      <td>1</td>\n",
       "      <td>عاجل  بكين تعلن حاله وفاه في العاصمه فيروس  كو...</td>\n",
       "    </tr>\n",
       "    <tr>\n",
       "      <th>4</th>\n",
       "      <td>0</td>\n",
       "      <td>المطلوب التركيز علي ادامه زخم دعوات الانسحاب ا...</td>\n",
       "    </tr>\n",
       "  </tbody>\n",
       "</table>\n",
       "</div>"
      ],
      "text/plain": [
       "   class                                         tweet_text\n",
       "0      1  ربنا احفظك واحميك واغطي واردك سالم غانم وكل اخ...\n",
       "1      0   الرياض\\n  الصين تستبدل الالعاب الناريه والليز...\n",
       "2      1  لو سمعحتوا فعلا الفايرس كورونا ياثر علي المنتج...\n",
       "3      1  عاجل  بكين تعلن حاله وفاه في العاصمه فيروس  كو...\n",
       "4      0  المطلوب التركيز علي ادامه زخم دعوات الانسحاب ا..."
      ]
     },
     "execution_count": 4,
     "metadata": {},
     "output_type": "execute_result"
    }
   ],
   "source": [
    "# look how the test set is shuffle \n",
    "start_test_set.dropna()\n",
    "print(start_test_set.info())\n",
    "start_test_set.head(5)"
   ]
  },
  {
   "cell_type": "markdown",
   "metadata": {},
   "source": [
    "# Prepare Data for Features Engineering"
   ]
  },
  {
   "cell_type": "code",
   "execution_count": 5,
   "metadata": {},
   "outputs": [
    {
     "name": "stdout",
     "output_type": "stream",
     "text": [
      "Number of Training Tweets is:  12060\n",
      "Number of Tagets class in Training Tweets is:  12060\n",
      "Number of Testing Tweets is:  3014\n",
      "Number of Tagets class in Testing Tweets is:  3014\n"
     ]
    }
   ],
   "source": [
    "tweets_train, target_train, tweets_test, target_test = split_train_test_set(start_train_set, start_test_set)"
   ]
  },
  {
   "cell_type": "markdown",
   "metadata": {},
   "source": [
    "# The whole Data set"
   ]
  },
  {
   "cell_type": "code",
   "execution_count": 6,
   "metadata": {},
   "outputs": [
    {
     "name": "stdout",
     "output_type": "stream",
     "text": [
      "15075\n",
      "The number of class 1 which represent this tweet talks about coronavirus:  7267\n",
      "The number of class 0 which represent this tweet not talks about coronavirus:  7808\n"
     ]
    },
    {
     "data": {
      "text/html": [
       "<div>\n",
       "<style scoped>\n",
       "    .dataframe tbody tr th:only-of-type {\n",
       "        vertical-align: middle;\n",
       "    }\n",
       "\n",
       "    .dataframe tbody tr th {\n",
       "        vertical-align: top;\n",
       "    }\n",
       "\n",
       "    .dataframe thead th {\n",
       "        text-align: right;\n",
       "    }\n",
       "</style>\n",
       "<table border=\"1\" class=\"dataframe\">\n",
       "  <thead>\n",
       "    <tr style=\"text-align: right;\">\n",
       "      <th></th>\n",
       "      <th>class</th>\n",
       "      <th>tweet_text</th>\n",
       "    </tr>\n",
       "  </thead>\n",
       "  <tbody>\n",
       "    <tr>\n",
       "      <th>0</th>\n",
       "      <td>1</td>\n",
       "      <td>طب مسلمين الصين اللي بيموتو الفيرس ذنب برده  ا...</td>\n",
       "    </tr>\n",
       "    <tr>\n",
       "      <th>1</th>\n",
       "      <td>1</td>\n",
       "      <td>علي ما اذكر معظم الفيروسات  ما عدا الايبولا  ك...</td>\n",
       "    </tr>\n",
       "    <tr>\n",
       "      <th>2</th>\n",
       "      <td>1</td>\n",
       "      <td>اميركا السبب لضرب الاقتصاد الصيني وتركيع الصين...</td>\n",
       "    </tr>\n",
       "    <tr>\n",
       "      <th>3</th>\n",
       "      <td>1</td>\n",
       "      <td>قلنا نقاطع الصين    الناس قالت مش ممكن الان مق...</td>\n",
       "    </tr>\n",
       "    <tr>\n",
       "      <th>4</th>\n",
       "      <td>1</td>\n",
       "      <td>نصحيتين اقدمها لك  1  لا تتروش في البرد  2  اح...</td>\n",
       "    </tr>\n",
       "  </tbody>\n",
       "</table>\n",
       "</div>"
      ],
      "text/plain": [
       "   class                                         tweet_text\n",
       "0      1  طب مسلمين الصين اللي بيموتو الفيرس ذنب برده  ا...\n",
       "1      1  علي ما اذكر معظم الفيروسات  ما عدا الايبولا  ك...\n",
       "2      1  اميركا السبب لضرب الاقتصاد الصيني وتركيع الصين...\n",
       "3      1  قلنا نقاطع الصين    الناس قالت مش ممكن الان مق...\n",
       "4      1  نصحيتين اقدمها لك  1  لا تتروش في البرد  2  اح..."
      ]
     },
     "execution_count": 6,
     "metadata": {},
     "output_type": "execute_result"
    }
   ],
   "source": [
    "df_file = pd.read_csv(analysis_direction_path_tweets + 'train_test_data/last_classifed_tweets_to_model_on_over_15000_tweets.csv', lineterminator='\\n', error_bad_lines=False)\n",
    "df_file.dropna(inplace=True)\n",
    "print(len(df_file))\n",
    "print(\"The number of class 1 which represent this tweet talks about coronavirus: \", len(df_file[df_file['class'] == 1]))\n",
    "print(\"The number of class 0 which represent this tweet not talks about coronavirus: \", len(df_file[df_file['class'] == 0]))\n",
    "df_file.head()"
   ]
  },
  {
   "cell_type": "markdown",
   "metadata": {},
   "source": [
    "# Features Engineering"
   ]
  },
  {
   "cell_type": "code",
   "execution_count": 8,
   "metadata": {
    "collapsed": true
   },
   "outputs": [],
   "source": [
    "word_to_vec_model = Word2Vec.load('models_weights/word2vec/word2vec_features.bin')"
   ]
  },
  {
   "cell_type": "code",
   "execution_count": 9,
   "metadata": {},
   "outputs": [
    {
     "name": "stderr",
     "output_type": "stream",
     "text": [
      "/home/abdelrahman/anaconda3/lib/python3.6/site-packages/ipykernel_launcher.py:1: DeprecationWarning: Call to deprecated `most_similar` (Method will be removed in 4.0.0, use self.wv.most_similar() instead).\n",
      "  \"\"\"Entry point for launching an IPython kernel.\n"
     ]
    },
    {
     "data": {
      "text/plain": [
       "[('كورونا_الجديد', 0.8745729923248291),\n",
       " ('الجديد', 0.8651182651519775),\n",
       " ('فيروس_كورونا', 0.8538630604743958),\n",
       " ('مخاوف', 0.845136284828186),\n",
       " ('القاتل', 0.8410530090332031),\n",
       " ('عالمي', 0.8361520767211914),\n",
       " ('حدودها', 0.8341037034988403),\n",
       " ('تاثير', 0.8300197720527649),\n",
       " ('غامض', 0.8267508149147034),\n",
       " ('لمنع', 0.8252075910568237)]"
      ]
     },
     "execution_count": 9,
     "metadata": {},
     "output_type": "execute_result"
    }
   ],
   "source": [
    "word_to_vec_model.most_similar('كورونا')"
   ]
  },
  {
   "cell_type": "code",
   "execution_count": 10,
   "metadata": {},
   "outputs": [
    {
     "name": "stdout",
     "output_type": "stream",
     "text": [
      "63\n"
     ]
    }
   ],
   "source": [
    "text_list = list(df_file['tweet_text'])\n",
    "text_list = [i.split() for i in text_list] # split each review to list of words\n",
    "max_len_str = max([len(tweet) for tweet in text_list])\n",
    "print(max_len_str)"
   ]
  },
  {
   "cell_type": "code",
   "execution_count": 11,
   "metadata": {},
   "outputs": [
    {
     "name": "stdout",
     "output_type": "stream",
     "text": [
      "['استقدمو الصين وزراء ربعنا ماههم كفو', ' اكثر ما نستطيع فعله مقاطعه الصين باكبر قدر ممكن والتحريض علي المقاطعه افراد وشركات لعلها تتطور لحكومات   ', ' سمعنا_صوتك_ياهادي الحمله حملت سفير الصين علي الذهاب ابن منصور يتفاقده عاده موجود ويبدو لقي الضاءعه حقنا بالله خرجوه ولو بكيس قمامه وبعدين نتفاهم ههههههه   ']\n",
      "['ربنا احفظك واحميك واغطي واردك سالم غانم وكل اخوانا الفي الصين   لاينسانا ولا ينساكم   اعمل حسابك   شا الله متلمي علي شباب سودانين', ' الرياض\\n  الصين تستبدل الالعاب الناريه والليزر بطاءرات الدروز للاحتفال براس السنه لاول مره \\n  تطور مذهل ربما ينهي عصر الالعاب الناريه  ', 'لو سمعحتوا فعلا الفايرس كورونا ياثر علي المنتجات        توني طالبه منكم وقالوا لاحد يطلب عشان الفايرس اللي بالصين  ']\n",
      "[['استقدمو', 'الصين', 'وزراء', 'ربعنا', 'ماههم', 'كفو'], ['اكثر', 'ما', 'نستطيع', 'فعله', 'مقاطعه', 'الصين', 'باكبر', 'قدر', 'ممكن', 'والتحريض', 'علي', 'المقاطعه', 'افراد', 'وشركات', 'لعلها', 'تتطور', 'لحكومات'], ['سمعنا_صوتك_ياهادي', 'الحمله', 'حملت', 'سفير', 'الصين', 'علي', 'الذهاب', 'ابن', 'منصور', 'يتفاقده', 'عاده', 'موجود', 'ويبدو', 'لقي', 'الضاءعه', 'حقنا', 'بالله', 'خرجوه', 'ولو', 'بكيس', 'قمامه', 'وبعدين', 'نتفاهم', 'ههههههه']]\n",
      "[['ربنا', 'احفظك', 'واحميك', 'واغطي', 'واردك', 'سالم', 'غانم', 'وكل', 'اخوانا', 'الفي', 'الصين', 'لاينسانا', 'ولا', 'ينساكم', 'اعمل', 'حسابك', 'شا', 'الله', 'متلمي', 'علي', 'شباب', 'سودانين'], ['الرياض', 'الصين', 'تستبدل', 'الالعاب', 'الناريه', 'والليزر', 'بطاءرات', 'الدروز', 'للاحتفال', 'براس', 'السنه', 'لاول', 'مره', 'تطور', 'مذهل', 'ربما', 'ينهي', 'عصر', 'الالعاب', 'الناريه'], ['لو', 'سمعحتوا', 'فعلا', 'الفايرس', 'كورونا', 'ياثر', 'علي', 'المنتجات', 'توني', 'طالبه', 'منكم', 'وقالوا', 'لاحد', 'يطلب', 'عشان', 'الفايرس', 'اللي', 'بالصين']]\n"
     ]
    }
   ],
   "source": [
    "tweets_train = list(tweets_train)\n",
    "tweets_test = list(tweets_test)\n",
    "\n",
    "# Before\n",
    "print(tweets_train[:3])\n",
    "print(tweets_test[:3])\n",
    "\n",
    "tweets_train_splited = [tweet.split() for tweet in tweets_train] \n",
    "tweets_test_splited = [tweet.split() for tweet in tweets_test] \n",
    "\n",
    "# After\n",
    "print(tweets_train_splited[:3])\n",
    "print(tweets_test_splited[:3])"
   ]
  },
  {
   "cell_type": "code",
   "execution_count": 12,
   "metadata": {},
   "outputs": [
    {
     "name": "stdout",
     "output_type": "stream",
     "text": [
      "The shape of matrix (12060, 18900)\n"
     ]
    }
   ],
   "source": [
    "number_of_features = 300\n",
    "train_embedding_matrix = word_2_vec_matrix(tweets_train_splited, word_to_vec_model, number_of_features, max_len_str)"
   ]
  },
  {
   "cell_type": "code",
   "execution_count": 16,
   "metadata": {
    "collapsed": true
   },
   "outputs": [],
   "source": [
    "svc_model = SVC()"
   ]
  },
  {
   "cell_type": "code",
   "execution_count": 18,
   "metadata": {},
   "outputs": [
    {
     "data": {
      "text/plain": [
       "SVC()"
      ]
     },
     "execution_count": 18,
     "metadata": {},
     "output_type": "execute_result"
    }
   ],
   "source": [
    "svc_model.fit(train_embedding_matrix, target_train)"
   ]
  },
  {
   "cell_type": "code",
   "execution_count": 19,
   "metadata": {},
   "outputs": [
    {
     "name": "stdout",
     "output_type": "stream",
     "text": [
      "The shape of matrix (3014, 18900)\n"
     ]
    }
   ],
   "source": [
    "test_embedding_matrix = word_2_vec_matrix(tweets_test_splited, word_to_vec_model, number_of_features, max_len_str)"
   ]
  },
  {
   "cell_type": "code",
   "execution_count": 20,
   "metadata": {},
   "outputs": [
    {
     "name": "stdout",
     "output_type": "stream",
     "text": [
      "===================== Training Result =====================\n",
      "F1 score of our training data is:  0.8948590381426201\n",
      "Evalution Matrix of training data is \n",
      " [[6026  220]\n",
      " [1048 4766]]\n",
      "===================== Testing Result =====================\n",
      "F1 score of our Testing data is:  0.8490378234903783\n",
      "Evalution Matrix of Testing data is \n",
      " [[1465   96]\n",
      " [ 359 1094]]\n"
     ]
    },
    {
     "data": {
      "text/plain": [
       "True"
      ]
     },
     "execution_count": 20,
     "metadata": {},
     "output_type": "execute_result"
    }
   ],
   "source": [
    "model_predict_train__test_data(svc_model, train_embedding_matrix, target_train,\n",
    "                              test_embedding_matrix, target_test)"
   ]
  },
  {
   "cell_type": "code",
   "execution_count": 21,
   "metadata": {
    "collapsed": true
   },
   "outputs": [],
   "source": [
    "pickle.dump(svc_model, open('models_weights/svc/word2vec_svc_89tr_85ts.sav', 'wb'))"
   ]
  },
  {
   "cell_type": "code",
   "execution_count": null,
   "metadata": {
    "collapsed": true
   },
   "outputs": [],
   "source": []
  }
 ],
 "metadata": {
  "kernelspec": {
   "display_name": "Python 3",
   "language": "python",
   "name": "python3"
  },
  "language_info": {
   "codemirror_mode": {
    "name": "ipython",
    "version": 3
   },
   "file_extension": ".py",
   "mimetype": "text/x-python",
   "name": "python",
   "nbconvert_exporter": "python",
   "pygments_lexer": "ipython3",
   "version": "3.6.3"
  }
 },
 "nbformat": 4,
 "nbformat_minor": 2
}
