{
 "cells": [
  {
   "cell_type": "code",
   "execution_count": 1,
   "metadata": {
    "collapsed": true
   },
   "outputs": [],
   "source": [
    "from direction_and_file_handleing import *\n",
    "import random\n",
    "import pickle"
   ]
  },
  {
   "cell_type": "code",
   "execution_count": 2,
   "metadata": {
    "collapsed": true
   },
   "outputs": [],
   "source": [
    "all_words_of_direction = read_direction_analysis(preprocessed_direction_path_tweets, \"\")"
   ]
  },
  {
   "cell_type": "code",
   "execution_count": 3,
   "metadata": {
    "collapsed": true
   },
   "outputs": [],
   "source": [
    "# all_words_of_direction = all_words_of_direction"
   ]
  },
  {
   "cell_type": "code",
   "execution_count": 4,
   "metadata": {},
   "outputs": [
    {
     "data": {
      "text/plain": [
       "304406"
      ]
     },
     "execution_count": 4,
     "metadata": {},
     "output_type": "execute_result"
    }
   ],
   "source": [
    "len(all_words_of_direction)"
   ]
  },
  {
   "cell_type": "code",
   "execution_count": 5,
   "metadata": {
    "collapsed": true
   },
   "outputs": [],
   "source": [
    "def search_for_coronavirus_tweets(all_tweet):\n",
    "    keywords = [\"تفشى\", \"فيروس\", \"كورونا\", \"مرض\", \"ووهان\", \"وباء\" , \"كمامه\", \"كمامات\", \"فايروس\", \"انتشر\", \"تعقيم\", \"معقمات\", \"الحجر\"]\n",
    "    tweets_selected = []\n",
    "    for tweet in all_tweet:\n",
    "        cnt_words = 0\n",
    "        for word in keywords:\n",
    "            if word in tweet:\n",
    "                cnt_words +=1  \n",
    "        if cnt_words == 0:\n",
    "            tweets_selected.append(tweet)\n",
    "    return tweets_selected"
   ]
  },
  {
   "cell_type": "code",
   "execution_count": null,
   "metadata": {
    "collapsed": true
   },
   "outputs": [],
   "source": [
    "# tweets_selected = search_for_coronavirus_tweets(all_words_of_direction)"
   ]
  },
  {
   "cell_type": "code",
   "execution_count": 6,
   "metadata": {
    "collapsed": true
   },
   "outputs": [],
   "source": [
    "# all_files_tweets_last = []\n",
    "# for tweet in tweets_selected:\n",
    "#     tweet = re.sub(\"(\\\\n)+\", \" \", tweet)\n",
    "#     tweet = tweet.strip()\n",
    "#     all_files_tweets_last.append(tweet)"
   ]
  },
  {
   "cell_type": "code",
   "execution_count": null,
   "metadata": {},
   "outputs": [],
   "source": [
    "# len(all_files_tweets_last)"
   ]
  },
  {
   "cell_type": "code",
   "execution_count": 7,
   "metadata": {
    "collapsed": true
   },
   "outputs": [],
   "source": [
    "# random_indexes = random.sample(range(len(all_files_tweets_last)), 2050)\n",
    "# all_files_tweets = [all_files_tweets_last[tweet_index] for tweet_index in random_indexes]"
   ]
  },
  {
   "cell_type": "code",
   "execution_count": 9,
   "metadata": {},
   "outputs": [
    {
     "data": {
      "text/plain": [
       "['منظمه الصحه العالميه تدعو  الصين التحقيق في مصدر فيروس  كورونا  الجديد مع ظهور حاله اصابه في  تايلند\\n\\n كيف اكتشاف الحاله الجديده \\n كيف تستعد لمعالجه الوضع \\n وما فيروس  كورونا  \\n\\nالتفاصيل في \\n  ',\n",
       " ' الصحه العالميه   ظهور  كورونا  جديد في\\xa0الصين  ',\n",
       " ' الصحه العالميه   ظهور  كورونا  جديد في الصين\\n\\n تبوك  تبوك_الان  صدي_تبوك  ',\n",
       " 'وضع الاطفال الشاشات صباحا يزيد خطر تعرضهم لمشكلات في النطق  العربيه  ',\n",
       " ' الصحه العالميه تحذر ظهور  كورونا  جديد في الصين والحصيله الاوليه 59 اصابه حتي اللحظه\\n رفحاء  عرعر  طريف  العويقيله\\n  ',\n",
       " 'مع هالسايكل كل تزيد قناعتي بكلام استاذه السلم اللي تقول مفروض تتخصصون علي طول ما تمرون علي كل التخصصات ان بناطلين السكربز سبب كورونا   ',\n",
       " '歡迎來到伊拉克的中國       الترجمه  مرحبا  الصين في العراق     \\n اتفاقيه_الصين_مشاريع_واعمار  ',\n",
       " ' الصين   شنغهاي تعلق الاتصالات الرسميه مع براج التشيكيه\\n  ',\n",
       " 'يوسف الكلابي\\nالفساد في وزارات  عادل_عبد_المهدي تحاوز كل الحدود  يعين  مدراء عامين لديهم ملفات فساد اصل ١٠٠ غير مناسبين\\nوتقول الحكومه  سهوا\\nيابه احنه مع اتفاقيه  الصين بعد دراسته  حكومه_انتقاليه نزيهه  ',\n",
       " 'مباشر اتفاقيه  النفط مقابل الاعمار  مع الصين   ما وما عليها  الضيوف  الخبير الاقتصادي ايمن الحاكم  تغطيه_خاصه  قناه_التغيير  الصين  النفط_مقابل_الاعمار  العراق تابعوا قناه التغيير عبر التردد التالي نايل سات 12398 عمودي  ']"
      ]
     },
     "execution_count": 9,
     "metadata": {},
     "output_type": "execute_result"
    }
   ],
   "source": [
    "all_words_of_direction[:10]"
   ]
  },
  {
   "cell_type": "code",
   "execution_count": null,
   "metadata": {
    "collapsed": true
   },
   "outputs": [],
   "source": [
    "# tweet_text = {'class': 1, 'tweet_text': all_files_tweets}\n",
    "# data_frame = pd.DataFrame(tweet_text)\n",
    "\n",
    "# data_frame.to_excel(analysis_direction_path_tweets + 'tweets_not_classified_2050_1_1_2021.xlsx', index=False)"
   ]
  },
  {
   "cell_type": "code",
   "execution_count": 15,
   "metadata": {},
   "outputs": [],
   "source": [
    "loaded_model = pickle.load(open('../ml_models/models_weights/logistic_regression/clf_LogisticRegression1_94tr_89ts.sav', 'rb'))"
   ]
  },
  {
   "cell_type": "code",
   "execution_count": 16,
   "metadata": {
    "collapsed": true
   },
   "outputs": [],
   "source": [
    "tf_vector = pickle.load(open('../ml_models/models_weights/tf_idf/tf_idf_vectorizer.pickle', 'rb'))"
   ]
  },
  {
   "cell_type": "code",
   "execution_count": 17,
   "metadata": {
    "collapsed": true
   },
   "outputs": [],
   "source": [
    "X_data = tf_vector.transform(all_words_of_direction)"
   ]
  },
  {
   "cell_type": "code",
   "execution_count": 18,
   "metadata": {},
   "outputs": [
    {
     "data": {
      "text/plain": [
       "(304406, 110000)"
      ]
     },
     "execution_count": 18,
     "metadata": {},
     "output_type": "execute_result"
    }
   ],
   "source": [
    "X_data.shape"
   ]
  },
  {
   "cell_type": "code",
   "execution_count": 19,
   "metadata": {
    "collapsed": true
   },
   "outputs": [],
   "source": [
    "predict = loaded_model.predict(X_data)"
   ]
  },
  {
   "cell_type": "code",
   "execution_count": 22,
   "metadata": {},
   "outputs": [],
   "source": [
    "zeros = (predict == 0) \n",
    "predict = predict[:10000]\n",
    "all_words_of_direction = all_words_of_direction[:10000]\n",
    "dicts = {\"tweet_text\": all_words_of_direction, \"predict\": predict}"
   ]
  },
  {
   "cell_type": "code",
   "execution_count": 25,
   "metadata": {},
   "outputs": [],
   "source": [
    "df = pd.DataFrame(dicts)\n"
   ]
  },
  {
   "cell_type": "code",
   "execution_count": 26,
   "metadata": {
    "collapsed": true
   },
   "outputs": [],
   "source": [
    "df.to_excel(\"../csv_down_files/analysis/COVID19-tweetID-2020-01/model_classifed_10000.xlsx\")"
   ]
  },
  {
   "cell_type": "code",
   "execution_count": 21,
   "metadata": {},
   "outputs": [
    {
     "data": {
      "text/plain": [
       "['منظمه الصحه العالميه تدعو  الصين التحقيق في مصدر فيروس  كورونا  الجديد مع ظهور حاله اصابه في  تايلند\\n\\n كيف اكتشاف الحاله الجديده \\n كيف تستعد لمعالجه الوضع \\n وما فيروس  كورونا  \\n\\nالتفاصيل في \\n  ',\n",
       " ' الصحه العالميه   ظهور  كورونا  جديد في\\xa0الصين  ',\n",
       " ' الصحه العالميه   ظهور  كورونا  جديد في الصين\\n\\n تبوك  تبوك_الان  صدي_تبوك  ',\n",
       " 'وضع الاطفال الشاشات صباحا يزيد خطر تعرضهم لمشكلات في النطق  العربيه  ',\n",
       " ' الصحه العالميه تحذر ظهور  كورونا  جديد في الصين والحصيله الاوليه 59 اصابه حتي اللحظه\\n رفحاء  عرعر  طريف  العويقيله\\n  ',\n",
       " 'مع هالسايكل كل تزيد قناعتي بكلام استاذه السلم اللي تقول مفروض تتخصصون علي طول ما تمرون علي كل التخصصات ان بناطلين السكربز سبب كورونا   ',\n",
       " '歡迎來到伊拉克的中國       الترجمه  مرحبا  الصين في العراق     \\n اتفاقيه_الصين_مشاريع_واعمار  ',\n",
       " ' الصين   شنغهاي تعلق الاتصالات الرسميه مع براج التشيكيه\\n  ',\n",
       " 'يوسف الكلابي\\nالفساد في وزارات  عادل_عبد_المهدي تحاوز كل الحدود  يعين  مدراء عامين لديهم ملفات فساد اصل ١٠٠ غير مناسبين\\nوتقول الحكومه  سهوا\\nيابه احنه مع اتفاقيه  الصين بعد دراسته  حكومه_انتقاليه نزيهه  ',\n",
       " 'مباشر اتفاقيه  النفط مقابل الاعمار  مع الصين   ما وما عليها  الضيوف  الخبير الاقتصادي ايمن الحاكم  تغطيه_خاصه  قناه_التغيير  الصين  النفط_مقابل_الاعمار  العراق تابعوا قناه التغيير عبر التردد التالي نايل سات 12398 عمودي  ']"
      ]
     },
     "execution_count": 21,
     "metadata": {},
     "output_type": "execute_result"
    }
   ],
   "source": [
    "dicts = {\"tweets\"}"
   ]
  },
  {
   "cell_type": "code",
   "execution_count": null,
   "metadata": {
    "collapsed": true
   },
   "outputs": [],
   "source": []
  }
 ],
 "metadata": {
  "kernelspec": {
   "display_name": "Python 3",
   "language": "python",
   "name": "python3"
  },
  "language_info": {
   "codemirror_mode": {
    "name": "ipython",
    "version": 3
   },
   "file_extension": ".py",
   "mimetype": "text/x-python",
   "name": "python",
   "nbconvert_exporter": "python",
   "pygments_lexer": "ipython3",
   "version": "3.6.3"
  }
 },
 "nbformat": 4,
 "nbformat_minor": 2
}
