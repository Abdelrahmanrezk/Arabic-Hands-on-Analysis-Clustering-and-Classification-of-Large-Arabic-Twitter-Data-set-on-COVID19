{
 "cells": [
  {
   "cell_type": "code",
   "execution_count": 1,
   "metadata": {
    "collapsed": true
   },
   "outputs": [],
   "source": [
    "# Features Extraction\n",
    "from sklearn.feature_extraction.text import TfidfVectorizer"
   ]
  },
  {
   "cell_type": "code",
   "execution_count": 2,
   "metadata": {
    "collapsed": true
   },
   "outputs": [],
   "source": [
    "def tfidf_vectorizer(X):\n",
    "    '''\n",
    "    Argumen:\n",
    "        df dataframe of multiple reviews\n",
    "    return:\n",
    "        Train & test arrays that can fir to the model\n",
    "    '''\n",
    "# I fit the vector to all of the data\n",
    "    tfidf_vectorizer = TfidfVectorizer(ngram_range=(1,2), max_features=100000)\n",
    "    tfidf_vectorizer = tfidf_vectorizer.fit(X) \n",
    "    word_idf_weights = tfidf_vectorizer.idf_\n",
    "    print(\"Our 10 words weights\\n\\n\",word_idf_weights[:10])\n",
    "    \n",
    "    tfidf_vectorizer = tfidf_vectorizer(all_direction_words)\n",
    "\n",
    "#     pickle.dump(tfidf_vectorizer, open(\"models_saved/tf_idf/tf_idf_vectorizer.pickle\", \"wb\"))\n",
    "#     tfidf_vectorizer = pickle.load(open(\"models_saved/tf_idf/tf_idf_vectorizer.pickle\", \"rb\"))\n",
    "    # fit splited data\n",
    "    training_data = tfidf_vectorizer.transform(X_train) \n",
    "    testing_data = tfidf_vectorizer.transform(X_test)\n",
    "    # convert to array that can apply to ML model\n",
    "    training_data = training_data.toarray()\n",
    "    testing_data = testing_data.toarray()\n",
    "    return tfidf_vectorizer, training_data, testing_data"
   ]
  },
  {
   "cell_type": "code",
   "execution_count": null,
   "metadata": {
    "collapsed": true
   },
   "outputs": [],
   "source": []
  }
 ],
 "metadata": {
  "kernelspec": {
   "display_name": "Python 3",
   "language": "python",
   "name": "python3"
  },
  "language_info": {
   "codemirror_mode": {
    "name": "ipython",
    "version": 3
   },
   "file_extension": ".py",
   "mimetype": "text/x-python",
   "name": "python",
   "nbconvert_exporter": "python",
   "pygments_lexer": "ipython3",
   "version": "3.6.3"
  }
 },
 "nbformat": 4,
 "nbformat_minor": 2
}
