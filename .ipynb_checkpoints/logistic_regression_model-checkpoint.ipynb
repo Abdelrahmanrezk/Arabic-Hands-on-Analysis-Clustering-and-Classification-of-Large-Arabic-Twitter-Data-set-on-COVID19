{
 "cells": [
  {
   "cell_type": "code",
   "execution_count": 1,
   "metadata": {
    "collapsed": true
   },
   "outputs": [],
   "source": [
    "import os\n",
    "import pickle\n",
    "import pandas as pd\n",
    "from configs import *\n",
    "import matplotlib.pyplot as plt\n",
    "\n",
    "# splitting data\n",
    "from sklearn.model_selection import train_test_split\n",
    "\n",
    "# Features Extraction\n",
    "from sklearn.feature_extraction.text import TfidfVectorizer\n",
    "\n",
    "# Evaluation\n",
    "from sklearn.metrics import confusion_matrix\n",
    "from sklearn.metrics import f1_score\n",
    "\n",
    "# models\n",
    "from sklearn.linear_model import LogisticRegression\n",
    "from sklearn.naive_bayes import MultinomialNB\n",
    "from sklearn.svm import SVC\n",
    "from sklearn.model_selection import GridSearchCV\n",
    "# Dimension reduction\n",
    "%run direction_and_file_handleing.ipynb\n",
    "%run cleaning.ipynb"
   ]
  },
  {
   "cell_type": "markdown",
   "metadata": {},
   "source": [
    "# Retrieve all words in all files for a large corpus"
   ]
  },
  {
   "cell_type": "code",
   "execution_count": 2,
   "metadata": {},
   "outputs": [
    {
     "name": "stdout",
     "output_type": "stream",
     "text": [
      "The total words of January Month are:  304406\n"
     ]
    }
   ],
   "source": [
    "# read_direction_analysis function from direction_and_file_handleing file\n",
    "\n",
    "all_direction_words = read_direction_analysis(preprocessed_direction_path_tweets, \"\")\n",
    "# all_direction_words = all_direction_words[:len(all_direction_words) - 3000000]\n",
    "print(\"The total words of January Month are: \", len(all_direction_words))"
   ]
  },
  {
   "cell_type": "markdown",
   "metadata": {},
   "source": [
    "## Read and Shuffle Model Data"
   ]
  },
  {
   "cell_type": "code",
   "execution_count": 3,
   "metadata": {},
   "outputs": [
    {
     "data": {
      "text/html": [
       "<div>\n",
       "<style scoped>\n",
       "    .dataframe tbody tr th:only-of-type {\n",
       "        vertical-align: middle;\n",
       "    }\n",
       "\n",
       "    .dataframe tbody tr th {\n",
       "        vertical-align: top;\n",
       "    }\n",
       "\n",
       "    .dataframe thead th {\n",
       "        text-align: right;\n",
       "    }\n",
       "</style>\n",
       "<table border=\"1\" class=\"dataframe\">\n",
       "  <thead>\n",
       "    <tr style=\"text-align: right;\">\n",
       "      <th></th>\n",
       "      <th>class</th>\n",
       "      <th>tweet_text</th>\n",
       "    </tr>\n",
       "  </thead>\n",
       "  <tbody>\n",
       "    <tr>\n",
       "      <th>0</th>\n",
       "      <td>1</td>\n",
       "      <td>طب مسلمين الصين اللي بيموتو الفيرس ذنب برده  ا...</td>\n",
       "    </tr>\n",
       "    <tr>\n",
       "      <th>1</th>\n",
       "      <td>1</td>\n",
       "      <td>علي ما اذكر معظم الفيروسات  ما عدا الايبولا  ك...</td>\n",
       "    </tr>\n",
       "    <tr>\n",
       "      <th>2</th>\n",
       "      <td>1</td>\n",
       "      <td>اميركا السبب لضرب الاقتصاد الصيني وتركيع الصين...</td>\n",
       "    </tr>\n",
       "    <tr>\n",
       "      <th>3</th>\n",
       "      <td>1</td>\n",
       "      <td>قلنا نقاطع الصين    الناس قالت مش ممكن الان مق...</td>\n",
       "    </tr>\n",
       "    <tr>\n",
       "      <th>4</th>\n",
       "      <td>1</td>\n",
       "      <td>نصحيتين اقدمها لك  1  لا تتروش في البرد  2  اح...</td>\n",
       "    </tr>\n",
       "  </tbody>\n",
       "</table>\n",
       "</div>"
      ],
      "text/plain": [
       "   class                                         tweet_text\n",
       "0      1  طب مسلمين الصين اللي بيموتو الفيرس ذنب برده  ا...\n",
       "1      1  علي ما اذكر معظم الفيروسات  ما عدا الايبولا  ك...\n",
       "2      1  اميركا السبب لضرب الاقتصاد الصيني وتركيع الصين...\n",
       "3      1  قلنا نقاطع الصين    الناس قالت مش ممكن الان مق...\n",
       "4      1  نصحيتين اقدمها لك  1  لا تتروش في البرد  2  اح..."
      ]
     },
     "execution_count": 3,
     "metadata": {},
     "output_type": "execute_result"
    }
   ],
   "source": [
    "df_file = pd.read_csv(analysis_direction_path_tweets + 'tweet_over_10000_classified_14_12_2020.csv', lineterminator='\\n', error_bad_lines=False)\n",
    "df_file.head()"
   ]
  },
  {
   "cell_type": "code",
   "execution_count": 4,
   "metadata": {},
   "outputs": [
    {
     "name": "stdout",
     "output_type": "stream",
     "text": [
      "The number of rows in this file are:  10068\n",
      "The columns are:  Index(['class', 'tweet_text'], dtype='object')\n",
      "The number of class 1 which represent this tweet talks about cron:  4972\n",
      "The number of class 0 which represent this tweet not talks about cron:  5096\n",
      "Our training data now are: 8054 Tweets\n",
      "Our testing data now are: 2014 Tweets\n",
      "Our training data now are: 8054 labels\n",
      "Our testing data now are: 2014 labels\n"
     ]
    }
   ],
   "source": [
    "# shuffle_dropna_separate_split function from direction_and_file_handleing file\n",
    "X_train, X_test, y_train, y_test = shuffle_dropna_separate_split(df_file, \"tweet_text\" ,\"class\")"
   ]
  },
  {
   "cell_type": "code",
   "execution_count": 5,
   "metadata": {},
   "outputs": [
    {
     "data": {
      "image/png": "[encoded data removed]",
      "text/plain": [
       "<Figure size 432x288 with 1 Axes>"
      ]
     },
     "metadata": {},
     "output_type": "display_data"
    }
   ],
   "source": [
    "# Separate classes \n",
    "corona_tweets = len(df_file[df_file['class'] == 1])\n",
    "genral_tweets = len(df_file[df_file['class'] == 0])\n",
    "histogram = [0, 1]\n",
    "\n",
    "labels = 'Class 1 coronavirus', 'Class 0 genral'\n",
    "sizes = [corona_tweets, genral_tweets]\n",
    "explode = (0, 0.1)  \n",
    "fig1, ax1 = plt.subplots()\n",
    "ax1.pie(sizes, explode=explode, labels=labels, autopct='%1.1f%%', shadow=True, startangle=90)\n",
    "plt.show()"
   ]
  },
  {
   "cell_type": "markdown",
   "metadata": {},
   "source": [
    "# Features Engineering"
   ]
  },
  {
   "cell_type": "code",
   "execution_count": 6,
   "metadata": {
    "collapsed": true
   },
   "outputs": [],
   "source": [
    "def tfidf_vectorizer(X):\n",
    "    '''\n",
    "    Argumen:\n",
    "        df dataframe of multiple reviews\n",
    "    return:\n",
    "        Train & test arrays that can fir to the model\n",
    "    '''\n",
    "# I fit the vector to all of the data\n",
    "    tfidf_vectorizer = TfidfVectorizer(ngram_range=(1,2), max_features=100000)\n",
    "    tfidf_vectorizer = tfidf_vectorizer.fit(X) \n",
    "    word_idf_weights = tfidf_vectorizer.idf_\n",
    "    print(\"Our 10 words weights\\n\\n\",word_idf_weights[:10])\n",
    "    return tfidf_vectorizer"
   ]
  },
  {
   "cell_type": "code",
   "execution_count": 7,
   "metadata": {},
   "outputs": [
    {
     "name": "stdout",
     "output_type": "stream",
     "text": [
      "Our 10 words weights\n",
      "\n",
      " [10.07077284  8.67029384 10.44806707 11.06117154 11.22822563 10.85353218\n",
      " 11.06117154 11.22822563 11.22822563 10.04260196]\n"
     ]
    }
   ],
   "source": [
    "tfidf_vectorizer = tfidf_vectorizer(all_direction_words)\n",
    "\n",
    "pickle.dump(tfidf_vectorizer, open(\"models_saved/tf_idf/tf_idf_vectorizer.pickle\", \"wb\"))\n",
    "tfidf_vectorizer = pickle.load(open(\"models_saved/tf_idf/tf_idf_vectorizer.pickle\", \"rb\"))\n",
    "# fit splited data\n",
    "training_data = tfidf_vectorizer.transform(X_train) \n",
    "testing_data = tfidf_vectorizer.transform(X_test)\n",
    "# convert to array that can apply to ML model\n",
    "training_data = training_data.toarray()\n",
    "testing_data = testing_data.toarray()"
   ]
  },
  {
   "cell_type": "code",
   "execution_count": 8,
   "metadata": {},
   "outputs": [
    {
     "name": "stdout",
     "output_type": "stream",
     "text": [
      "Our new vectorized data: (8054, 100000)\n",
      "Our new vectorized data: (2014, 100000)\n",
      "The first 2 review after transform: \n",
      " [[0. 0. 0. ... 0. 0. 0.]\n",
      " [0. 0. 0. ... 0. 0. 0.]]\n"
     ]
    }
   ],
   "source": [
    "# first shape is the data itself and second shape is the BOW in our data\n",
    "print(\"Our new vectorized data: \" + str(training_data.shape))\n",
    "print(\"Our new vectorized data: \" + str(testing_data.shape)) \n",
    "print(\"The first 2 review after transform: \\n\", training_data[:2])"
   ]
  },
  {
   "cell_type": "code",
   "execution_count": 9,
   "metadata": {
    "collapsed": true
   },
   "outputs": [],
   "source": [
    "def grid_search(param_grid):\n",
    " \n",
    "\n",
    "    clf = GridSearchCV(LogisticRegression(penalty='l2'), param_grid)\n",
    "    clf.fit(training_data, y_train)\n",
    "    \n",
    "    print(\"tuned hpyerparameters :(best parameters) \",clf.best_params_)\n",
    "    print(\"accuracy :\",clf.best_score_)\n",
    "    \n",
    "    return True\n"
   ]
  },
  {
   "cell_type": "code",
   "execution_count": 10,
   "metadata": {},
   "outputs": [
    {
     "name": "stdout",
     "output_type": "stream",
     "text": [
      "tuned hpyerparameters :(best parameters)  {'C': 1, 'solver': 'lbfgs'}\n",
      "accuracy : 0.8837846945109515\n"
     ]
    }
   ],
   "source": [
    "param_grid = {'solver':['lbfgs'] ,'C': [0.1 , .3, .5, .7 1] }\n",
    "_ = grid_search(param_grid)"
   ]
  },
  {
   "cell_type": "code",
   "execution_count": 11,
   "metadata": {
    "collapsed": true
   },
   "outputs": [],
   "source": [
    "def logistic_regression_model(penalty, solver, regul, iterations):\n",
    "    clf_LogisticRegression = LogisticRegression(penalty=penalty, solver=solver, C=regul, max_iter=iterations)\n",
    "    model = clf_LogisticRegression.fit(training_data, y_train)\n",
    "    predict = model.predict(training_data)\n",
    "    print(\"===================== Training Result =====================\")\n",
    "    print(\"F1 score of our training data is: \", f1_score(y_train, predict, average='micro'))\n",
    "    print(\"Evalution Matrix of training data is \\n\", confusion_matrix(y_train, predict))\n",
    "    predict = model.predict(testing_data)\n",
    "    print(\"===================== Testing Result =====================\")\n",
    "    print(\"F1 score of our testing data is: \", f1_score(y_test, predict, average='micro'))\n",
    "    print(\"Evalution Matrix of training data is \\n\", confusion_matrix(y_test, predict))\n",
    "    return clf_LogisticRegression"
   ]
  },
  {
   "cell_type": "code",
   "execution_count": 12,
   "metadata": {},
   "outputs": [
    {
     "name": "stdout",
     "output_type": "stream",
     "text": [
      "===================== Training Result =====================\n",
      "F1 score of our training data is:  0.9457412465855477\n",
      "Evalution Matrix of training data is \n",
      " [[3894  175]\n",
      " [ 262 3723]]\n",
      "===================== Testing Result =====================\n",
      "F1 score of our testing data is:  0.897219463753724\n",
      "Evalution Matrix of training data is \n",
      " [[963  64]\n",
      " [143 844]]\n",
      "============================================================\n",
      "\n",
      "\n",
      " Show the difference of effect in regularization part:\n",
      "\n",
      "===================== Training Result =====================\n",
      "F1 score of our training data is:  0.888130121678669\n",
      "Evalution Matrix of training data is \n",
      " [[3858  211]\n",
      " [ 690 3295]]\n",
      "===================== Testing Result =====================\n",
      "F1 score of our testing data is:  0.871896722939424\n",
      "Evalution Matrix of training data is \n",
      " [[975  52]\n",
      " [206 781]]\n",
      "============================================================\n",
      "\n",
      "\n",
      " Show the difference of effect in regularization part:\n",
      "\n",
      "===================== Training Result =====================\n",
      "F1 score of our training data is:  0.9281102557735287\n",
      "Evalution Matrix of training data is \n",
      " [[3865  204]\n",
      " [ 375 3610]]\n",
      "===================== Testing Result =====================\n",
      "F1 score of our testing data is:  0.8927507447864945\n",
      "Evalution Matrix of training data is \n",
      " [[964  63]\n",
      " [153 834]]\n"
     ]
    }
   ],
   "source": [
    "# different regularization test\n",
    "clf_LogisticRegression1 = logistic_regression_model('l2', 'lbfgs', 1, 2000)\n",
    "print(\"=\"*60)\n",
    "print(\"\\n\\n Show the difference of effect in regularization part:\\n\")\n",
    "clf_LogisticRegression2 = logistic_regression_model('l2', 'lbfgs', .1, 2000)\n",
    "print(\"=\"*60)\n",
    "print(\"\\n\\n Show the difference of effect in regularization part:\\n\")\n",
    "clf_LogisticRegression3 = logistic_regression_model('l2', 'lbfgs', .55, 2000)\n"
   ]
  },
  {
   "cell_type": "code",
   "execution_count": 14,
   "metadata": {
    "collapsed": true
   },
   "outputs": [],
   "source": [
    "pickle.dump(clf_LogisticRegression1, open('models_saved/logistic_regression/clf_LogisticRegression1_94tr_89_ts.sav', 'wb'))\n",
    "pickle.dump(clf_LogisticRegression3, open('models_saved/logistic_regression/clf_LogisticRegression3_92tr_89_ts.sav', 'wb'))\n"
   ]
  },
  {
   "cell_type": "code",
   "execution_count": null,
   "metadata": {
    "collapsed": true
   },
   "outputs": [],
   "source": []
  }
 ],
 "metadata": {
  "kernelspec": {
   "display_name": "Python 3",
   "language": "python",
   "name": "python3"
  },
  "language_info": {
   "codemirror_mode": {
    "name": "ipython",
    "version": 3
   },
   "file_extension": ".py",
   "mimetype": "text/x-python",
   "name": "python",
   "nbconvert_exporter": "python",
   "pygments_lexer": "ipython3",
   "version": "3.6.3"
  }
 },
 "nbformat": 4,
 "nbformat_minor": 2
}
