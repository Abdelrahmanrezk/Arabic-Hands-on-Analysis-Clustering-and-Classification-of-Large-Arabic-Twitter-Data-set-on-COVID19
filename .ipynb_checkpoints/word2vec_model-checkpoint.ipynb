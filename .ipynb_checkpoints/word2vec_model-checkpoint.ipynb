{
 "cells": [
  {
   "cell_type": "code",
   "execution_count": 1,
   "metadata": {
    "collapsed": true
   },
   "outputs": [],
   "source": [
    "import os\n",
    "import pickle\n",
    "import pandas as pd\n",
    "from configs import *\n",
    "import matplotlib.pyplot as plt\n",
    "\n",
    "from __future__ import unicode_literals\n",
    "import arabic_reshaper\n",
    "from bidi.algorithm import get_display\n",
    "# splitting data\n",
    "from sklearn.model_selection import train_test_split\n",
    "\n",
    "# Features Extraction\n",
    "from sklearn.feature_extraction.text import TfidfVectorizer\n",
    "\n",
    "# Evaluation\n",
    "from sklearn.metrics import confusion_matrix\n",
    "from sklearn.metrics import f1_score\n",
    "# Features Extraction word2vec\n",
    "from gensim.models import Word2Vec\n",
    "\n",
    "# Dimension reduction\n",
    "from sklearn.decomposition import PCA\n",
    "# models\n",
    "from sklearn.linear_model import LogisticRegression\n",
    "from sklearn.naive_bayes import MultinomialNB\n",
    "from sklearn.svm import SVC\n",
    "from sklearn.model_selection import GridSearchCV\n",
    "# Dimension reduction\n",
    "%run direction_and_file_handleing.ipynb\n",
    "%run cleaning.ipynb"
   ]
  },
  {
   "cell_type": "code",
   "execution_count": 2,
   "metadata": {},
   "outputs": [
    {
     "data": {
      "text/html": [
       "<div>\n",
       "<style scoped>\n",
       "    .dataframe tbody tr th:only-of-type {\n",
       "        vertical-align: middle;\n",
       "    }\n",
       "\n",
       "    .dataframe tbody tr th {\n",
       "        vertical-align: top;\n",
       "    }\n",
       "\n",
       "    .dataframe thead th {\n",
       "        text-align: right;\n",
       "    }\n",
       "</style>\n",
       "<table border=\"1\" class=\"dataframe\">\n",
       "  <thead>\n",
       "    <tr style=\"text-align: right;\">\n",
       "      <th></th>\n",
       "      <th>class</th>\n",
       "      <th>tweet_text</th>\n",
       "    </tr>\n",
       "  </thead>\n",
       "  <tbody>\n",
       "    <tr>\n",
       "      <th>0</th>\n",
       "      <td>1</td>\n",
       "      <td>طب مسلمين الصين اللي بيموتو الفيرس ذنب برده  ا...</td>\n",
       "    </tr>\n",
       "    <tr>\n",
       "      <th>1</th>\n",
       "      <td>1</td>\n",
       "      <td>علي ما اذكر معظم الفيروسات  ما عدا الايبولا  ك...</td>\n",
       "    </tr>\n",
       "    <tr>\n",
       "      <th>2</th>\n",
       "      <td>1</td>\n",
       "      <td>اميركا السبب لضرب الاقتصاد الصيني وتركيع الصين...</td>\n",
       "    </tr>\n",
       "    <tr>\n",
       "      <th>3</th>\n",
       "      <td>1</td>\n",
       "      <td>قلنا نقاطع الصين    الناس قالت مش ممكن الان مق...</td>\n",
       "    </tr>\n",
       "    <tr>\n",
       "      <th>4</th>\n",
       "      <td>1</td>\n",
       "      <td>نصحيتين اقدمها لك  1  لا تتروش في البرد  2  اح...</td>\n",
       "    </tr>\n",
       "  </tbody>\n",
       "</table>\n",
       "</div>"
      ],
      "text/plain": [
       "   class                                         tweet_text\n",
       "0      1  طب مسلمين الصين اللي بيموتو الفيرس ذنب برده  ا...\n",
       "1      1  علي ما اذكر معظم الفيروسات  ما عدا الايبولا  ك...\n",
       "2      1  اميركا السبب لضرب الاقتصاد الصيني وتركيع الصين...\n",
       "3      1  قلنا نقاطع الصين    الناس قالت مش ممكن الان مق...\n",
       "4      1  نصحيتين اقدمها لك  1  لا تتروش في البرد  2  اح..."
      ]
     },
     "execution_count": 2,
     "metadata": {},
     "output_type": "execute_result"
    }
   ],
   "source": [
    "df_file = pd.read_csv(analysis_direction_path_tweets + 'tweet_over_10000_classified_14_12_2020.csv', lineterminator='\\n', error_bad_lines=False)\n",
    "df_file.head()"
   ]
  },
  {
   "cell_type": "code",
   "execution_count": 3,
   "metadata": {},
   "outputs": [
    {
     "name": "stdout",
     "output_type": "stream",
     "text": [
      "The number of rows in this file are:  10068\n",
      "The columns are:  Index(['class', 'tweet_text'], dtype='object')\n",
      "The number of class 1 which represent this tweet talks about cron:  4972\n",
      "The number of class 0 which represent this tweet not talks about cron:  5096\n",
      "Our training data now are: 8054 Tweets\n",
      "Our testing data now are: 2014 Tweets\n",
      "Our training data now are: 8054 labels\n",
      "Our testing data now are: 2014 labels\n"
     ]
    }
   ],
   "source": [
    "# shuffle_dropna_separate_split function from direction_and_file_handleing file\n",
    "X_train, X_test, y_train, y_test = shuffle_dropna_separate_split(df_file, \"tweet_text\" ,\"class\")"
   ]
  },
  {
   "cell_type": "code",
   "execution_count": 4,
   "metadata": {},
   "outputs": [
    {
     "name": "stdout",
     "output_type": "stream",
     "text": [
      "The greatest string of our reviews:  60\n"
     ]
    }
   ],
   "source": [
    "text_list = list(df_file['tweet_text'])\n",
    "max_len_str = max([len(i.split()) for i in text_list])\n",
    "\n",
    "print(\"The greatest string of our reviews: \", max_len_str)"
   ]
  },
  {
   "cell_type": "code",
   "execution_count": 5,
   "metadata": {},
   "outputs": [
    {
     "data": {
      "text/plain": [
       "['طب مسلمين الصين اللي بيموتو الفيرس ذنب برده  الوباء مبيفرقش تقي',\n",
       " 'علي ما اذكر معظم الفيروسات  ما عدا الايبولا  كلها مصدرها الصين',\n",
       " 'اميركا السبب لضرب الاقتصاد الصيني وتركيع الصين بعتت فيروس']"
      ]
     },
     "execution_count": 5,
     "metadata": {},
     "output_type": "execute_result"
    }
   ],
   "source": [
    "text_list[:3]"
   ]
  },
  {
   "cell_type": "code",
   "execution_count": 6,
   "metadata": {},
   "outputs": [
    {
     "name": "stdout",
     "output_type": "stream",
     "text": [
      "The firt 5 reviews are:  [['طب', 'مسلمين', 'الصين', 'اللي', 'بيموتو', 'الفيرس', 'ذنب', 'برده', 'الوباء', 'مبيفرقش', 'تقي'], ['علي', 'ما', 'اذكر', 'معظم', 'الفيروسات', 'ما', 'عدا', 'الايبولا', 'كلها', 'مصدرها', 'الصين'], ['اميركا', 'السبب', 'لضرب', 'الاقتصاد', 'الصيني', 'وتركيع', 'الصين', 'بعتت', 'فيروس']]\n"
     ]
    }
   ],
   "source": [
    "text_list = [i.split() for i in text_list] # split each review to list of words\n",
    "print(\"The firt 5 reviews are: \", text_list[:3])"
   ]
  },
  {
   "cell_type": "code",
   "execution_count": 7,
   "metadata": {
    "collapsed": true
   },
   "outputs": [],
   "source": [
    "number_of_features = 300\n",
    "window_size = 7\n",
    "min_words_count = 1"
   ]
  },
  {
   "cell_type": "code",
   "execution_count": 8,
   "metadata": {
    "collapsed": true
   },
   "outputs": [],
   "source": [
    "def word_to_vec(text_list, number_of_features, window_size, min_words_count):\n",
    "    '''\n",
    "    Argument:\n",
    "        list of strings and each string is list of words\n",
    "        size = extract 50 features for each word\n",
    "        window = 7 take the context of neighbour words\n",
    "        min_count = 1 consider each word that even repeated 1 time\n",
    "    return:\n",
    "        the word2vec model\n",
    "    '''\n",
    "    word_to_vec_model = Word2Vec(text_list, size =number_of_features, window = window_size, min_count=min_words_count, sg = 1) \n",
    "    print(\"Our word2vec model: \", word_to_vec_model)\n",
    "    print(\"The number of frequent words of our data: \", len(word_to_vec_model.wv.vocab)) # the frequent words\n",
    "    # save model\n",
    "    word_to_vec_model.save('models_saved/word2vec_model_logistic.bin')\n",
    "\n",
    "    # load model\n",
    "    word_to_vec_model = Word2Vec.load('models_saved/word2vec_model_logistic.bin')\n",
    "    return word_to_vec_model"
   ]
  },
  {
   "cell_type": "code",
   "execution_count": 9,
   "metadata": {},
   "outputs": [
    {
     "name": "stdout",
     "output_type": "stream",
     "text": [
      "Our word2vec model:  Word2Vec(vocab=46565, size=300, alpha=0.025)\n",
      "The number of frequent words of our data:  46565\n"
     ]
    }
   ],
   "source": [
    "word_to_vec_model = word_to_vec(text_list, number_of_features, window_size, min_words_count)"
   ]
  },
  {
   "cell_type": "code",
   "execution_count": 10,
   "metadata": {},
   "outputs": [
    {
     "name": "stdout",
     "output_type": "stream",
     "text": [
      "Feature of some words\n",
      " [-9.35615674e-02 -8.45302045e-02  1.50363483e-02  3.59503366e-02\n",
      " -1.78930666e-02  2.83430163e-02  3.73154171e-02 -3.26597616e-02\n",
      "  3.28216664e-02 -6.03711866e-02 -3.29782367e-02 -1.44254072e-02\n",
      " -1.74695477e-02  6.66687936e-02 -7.65362605e-02 -1.16957054e-01\n",
      " -5.48265837e-02 -1.75896343e-02  4.69618989e-03  2.77268011e-02\n",
      "  3.17665264e-02 -9.30202231e-02 -1.35602364e-02 -5.03474176e-02\n",
      " -1.01496056e-01 -5.72718307e-02  1.24163218e-01  1.59034468e-02\n",
      " -1.46892546e-02  3.01971026e-02  6.45995364e-02  2.19521229e-03\n",
      " -1.13372624e-01 -5.34845423e-03 -2.57958900e-02 -5.20489104e-02\n",
      "  8.99251103e-02 -3.77124995e-02 -4.75719199e-02 -9.34328362e-02\n",
      " -9.67909954e-03  1.05294667e-01  1.72792040e-02  2.39130929e-02\n",
      "  1.21178422e-02  1.19544491e-01  4.19694223e-02 -3.52504221e-03\n",
      "  1.52879963e-02 -1.42846808e-01 -9.19377357e-02 -3.27946395e-02\n",
      " -1.02858335e-01 -1.97390523e-02  9.72869396e-02  2.57670283e-02\n",
      "  9.15505737e-02  2.90182028e-02 -5.85469939e-02  3.18249390e-02\n",
      " -6.88020214e-02 -2.87625659e-02  5.58638722e-02 -2.49719787e-02\n",
      "  5.19997776e-02 -9.25313607e-02 -1.02952473e-01 -6.04534335e-02\n",
      " -9.66933370e-03 -1.39583526e-02 -3.75207290e-02 -7.38005564e-02\n",
      "  7.82369915e-03  3.48502472e-02 -5.95451370e-02 -4.23088372e-02\n",
      "  1.76372547e-02  6.89825639e-02  2.70380192e-02 -5.58988452e-02\n",
      " -1.76104888e-01 -1.72857579e-03 -6.80596530e-02  9.10786316e-02\n",
      " -5.77908903e-02 -1.42357111e-01 -9.37691852e-02  1.98944896e-01\n",
      " -1.61656111e-01 -1.55705623e-02  4.63359430e-02  1.23374574e-01\n",
      " -3.25292051e-02  4.44954708e-02 -1.47709668e-01  4.56217639e-02\n",
      "  3.37277129e-02 -4.55951430e-02  6.55824691e-02 -7.87948538e-03\n",
      " -4.06304747e-02 -7.15809166e-02  9.21033509e-03  5.93032017e-02\n",
      "  1.61430895e-01 -3.62262391e-02 -1.27028570e-01 -6.21298701e-02\n",
      " -1.49168938e-01 -6.60650954e-02 -4.63540219e-02  9.30759758e-02\n",
      " -2.35963706e-02 -1.98186375e-02 -6.59830719e-02  5.38193136e-02\n",
      " -4.56846133e-02 -1.31804068e-02  5.30191511e-02  2.69004330e-02\n",
      "  1.48749091e-02 -6.07212745e-02  3.06797959e-02  2.50004046e-02\n",
      " -1.19213667e-02 -8.07744171e-03 -9.65245813e-03  2.14887876e-02\n",
      "  4.90311310e-02 -1.17708668e-02  3.14064808e-02 -7.48626813e-02\n",
      " -4.94460668e-03  1.11963764e-01  1.58502273e-02 -9.95002985e-02\n",
      "  4.95590493e-02 -8.51598233e-02  2.62831114e-02  6.82397112e-02\n",
      "  3.37691754e-02 -2.54427064e-02  3.76180336e-02  6.95850775e-02\n",
      " -2.17315331e-02 -1.16532505e-01 -5.74726388e-02 -1.12142108e-01\n",
      "  7.05585927e-02  4.57173632e-03 -4.49577905e-02  4.16046157e-02\n",
      " -1.25186844e-02 -8.66145268e-03  1.11169674e-01  1.56291746e-04\n",
      " -3.54089402e-02 -4.08021919e-02 -7.39794075e-02  5.84623516e-02\n",
      " -4.94237524e-03  1.38716325e-01  4.29192185e-02  6.64562881e-02\n",
      "  6.90755621e-03 -7.27681369e-02  7.94655979e-02 -4.20698524e-02\n",
      "  2.78589465e-02  9.89418104e-02 -1.63560361e-01 -8.11726078e-02\n",
      "  4.20643352e-02 -5.92167210e-03 -5.13880029e-02  5.72243594e-02\n",
      " -9.25316885e-02  1.77669935e-02  5.49585484e-02 -1.07429191e-01\n",
      "  1.67381428e-02 -7.06241131e-02 -4.70677279e-02 -3.74132916e-02\n",
      " -7.07078800e-02  1.32773081e-02 -1.11445978e-01  4.22757491e-02\n",
      "  6.09502122e-02  5.91908470e-02  2.43827738e-02 -6.10294119e-02\n",
      " -6.49321601e-02  1.09662876e-01 -2.73777489e-02  6.29349872e-02\n",
      "  8.21857527e-02 -4.17890325e-02  3.00476458e-02 -3.41286883e-02\n",
      "  2.19289288e-02 -2.14575101e-02 -2.99018212e-02 -1.38618425e-01\n",
      " -1.34321913e-01 -5.85994544e-03 -4.34305668e-02  6.74924180e-02\n",
      " -9.50421765e-03  8.17392319e-02 -4.35069464e-02  6.60248101e-02\n",
      "  2.89560795e-01 -1.53766684e-02 -5.83979040e-02  7.78111443e-02\n",
      "  4.26927209e-03  6.12458261e-03 -3.14689390e-02  4.85306717e-02\n",
      " -8.82836804e-02  2.76600216e-02 -4.62247580e-02 -3.12922224e-02\n",
      "  3.03411037e-02 -1.04232766e-02 -1.23339333e-02  3.19853909e-02\n",
      "  5.99055551e-02 -9.74370241e-02 -3.76557447e-02  5.85782006e-02\n",
      "  2.96060033e-02 -9.67458785e-02 -2.08454374e-02  7.54187331e-02\n",
      "  4.91863452e-02  1.29368724e-02  3.86505164e-02  1.29953906e-01\n",
      "  1.21305533e-01 -1.38863623e-02  4.23274413e-02 -1.41699508e-01\n",
      " -6.85350820e-02 -5.11289062e-03  5.74618541e-02  8.79547149e-02\n",
      "  2.89971828e-02 -3.57800014e-02 -1.80847645e-02  2.48613618e-02\n",
      " -6.03164323e-02 -2.13958323e-01 -9.54535156e-02  6.84922142e-03\n",
      " -1.53677734e-02  5.43343388e-02  2.96086352e-02 -4.60830107e-02\n",
      " -7.44411796e-02 -2.78589968e-02 -1.88712463e-01 -3.54861729e-02\n",
      "  5.75345717e-02 -4.81958836e-02  1.00886531e-01 -1.24940522e-01\n",
      " -6.17662296e-02  4.57519926e-02 -7.76836276e-02  1.48978844e-01\n",
      " -2.20221318e-02  1.69045199e-02  2.17290595e-02  7.56422058e-02\n",
      "  1.46806678e-02 -5.94345443e-02 -1.61253631e-01 -3.22820805e-02\n",
      "  2.36249417e-01  5.96010275e-02 -1.28538549e-01 -1.99484136e-02\n",
      " -4.50435616e-02 -1.67035293e-02  4.16678041e-02  6.37094770e-03\n",
      "  7.88801257e-03 -6.06157146e-02  6.43191393e-03  8.56399238e-02\n",
      " -7.06456378e-02 -9.92739666e-03  1.21767610e-01  6.00514887e-03\n",
      "  1.59707487e-01  5.52564114e-02  9.68665816e-03  9.64918640e-03]\n"
     ]
    },
    {
     "name": "stderr",
     "output_type": "stream",
     "text": [
      "/home/abdelrahman/anaconda3/lib/python3.6/site-packages/ipykernel_launcher.py:1: DeprecationWarning: Call to deprecated `__getitem__` (Method will be removed in 4.0.0, use self.wv.__getitem__() instead).\n",
      "  \"\"\"Entry point for launching an IPython kernel.\n"
     ]
    }
   ],
   "source": [
    "print(\"Feature of some words\\n\", word_to_vec_model['ممتاز'])"
   ]
  },
  {
   "cell_type": "code",
   "execution_count": 11,
   "metadata": {},
   "outputs": [
    {
     "name": "stderr",
     "output_type": "stream",
     "text": [
      "/home/abdelrahman/anaconda3/lib/python3.6/site-packages/ipykernel_launcher.py:8: DeprecationWarning: Call to deprecated `__getitem__` (Method will be removed in 4.0.0, use self.wv.__getitem__() instead).\n",
      "  \n"
     ]
    },
    {
     "name": "stdout",
     "output_type": "stream",
     "text": [
      "The shape of our word_features is: (100, 300)\n"
     ]
    },
    {
     "name": "stderr",
     "output_type": "stream",
     "text": [
      "/home/abdelrahman/anaconda3/lib/python3.6/site-packages/matplotlib/backends/backend_agg.py:214: RuntimeWarning: Glyph 65010 missing from current font.\n",
      "  font.set_text(s, 0.0, flags=flags)\n",
      "/home/abdelrahman/anaconda3/lib/python3.6/site-packages/matplotlib/backends/backend_agg.py:183: RuntimeWarning: Glyph 65010 missing from current font.\n",
      "  font.set_text(s, 0, flags=flags)\n"
     ]
    },
    {
     "data": {
      "image/png": "[encoded data removed]",
      "text/plain": [
       "<Figure size 576x576 with 1 Axes>"
      ]
     },
     "metadata": {},
     "output_type": "display_data"
    }
   ],
   "source": [
    " # retrieve frequent words\n",
    "words = list(word_to_vec_model.wv.vocab)\n",
    "\n",
    "# I took just 100 words to present with PCA\n",
    "words = words[:100]\n",
    "\n",
    "# get the features of those 100 word\n",
    "word_features = word_to_vec_model[words] \n",
    "\n",
    "# it will be 100 word * 50 which 50 feature of each word\n",
    "print(\"The shape of our word_features is:\", word_features.shape)\n",
    "\n",
    "# Dimension reduction to display so instead of 50 dimension of each word \n",
    "#reduce to 2 dimensional that have fine display\n",
    "# from 50 features to just 2 features for displaying how words related words to gether\n",
    "pca = PCA(n_components=2)\n",
    "\n",
    "# fit the model\n",
    "xy_words = pca.fit_transform(word_features)\n",
    "\n",
    "# set the visualization plot\n",
    "plt.style.use(['dark_background'])\n",
    "plt.figure(figsize=(8,8))\n",
    "\n",
    "# after reduction for all features in first column as x and all features from second column as y\n",
    "plt.scatter(xy_words[:, 0], xy_words[:, 1], marker='P',s=100, c=\"red\") \n",
    "\n",
    "for i, word in enumerate(words):\n",
    "    # handle Arabic words to display from right to left and as complete word not just separate chars\n",
    "    word = arabic_reshaper.reshape(word) # handle arabic words on ploting\n",
    "    word = get_display(word)\n",
    "    # plot each word beside its point\n",
    "    plt.annotate(word, xy=(xy_words[i, 0], xy_words[i, 1]))\n",
    "plt.show()"
   ]
  },
  {
   "cell_type": "code",
   "execution_count": 12,
   "metadata": {
    "collapsed": true
   },
   "outputs": [],
   "source": [
    "def word_2_vec_matrix(text_list,word_to_vec_model,number_of_features, max_len_str):\n",
    "    '''\n",
    "    Argument:\n",
    "            List of string each of them is list of words\n",
    "            the word_to_vec_model model\n",
    "            number of features you apply to word2vec model\n",
    "            number of words of greatest string in your reviews\n",
    "    return:\n",
    "        embedding matrix that can apply to machine learning algorithms\n",
    "    '''\n",
    "    embedding_matrix = np.zeros((len(text_list), number_of_features*max_len_str)) # largest sentence and 5 fetures\n",
    "    print(\"The shape of matrix\", embedding_matrix.shape)\n",
    "#loop over each review\n",
    "    for index,review in enumerate(text_list):\n",
    "# list of each reviw which will be appended to embedding matrix\n",
    "        one_sentence_list = [] \n",
    "        for word in review:\n",
    "            word = word_to_vec_model[word]\n",
    "            one_sentence_list.extend(word)\n",
    "            \n",
    "# make padding for small strings\n",
    "        zero_pad = np.zeros(number_of_features*max_len_str-len(one_sentence_list))\n",
    "        zero_pad = list(zero_pad)\n",
    "    \n",
    "# apply the padding\n",
    "        one_sentence_list.extend(zero_pad)\n",
    "        embedding_matrix[index] = one_sentence_list\n",
    "    return embedding_matrix"
   ]
  },
  {
   "cell_type": "code",
   "execution_count": 13,
   "metadata": {},
   "outputs": [
    {
     "name": "stderr",
     "output_type": "stream",
     "text": [
      "/home/abdelrahman/anaconda3/lib/python3.6/site-packages/ipykernel_launcher.py:18: DeprecationWarning: Call to deprecated `__getitem__` (Method will be removed in 4.0.0, use self.wv.__getitem__() instead).\n"
     ]
    },
    {
     "name": "stdout",
     "output_type": "stream",
     "text": [
      "The shape of matrix (10068, 18000)\n"
     ]
    }
   ],
   "source": [
    "embedding_matrix = word_2_vec_matrix(text_list,word_to_vec_model, number_of_features, max_len_str)"
   ]
  },
  {
   "cell_type": "code",
   "execution_count": 14,
   "metadata": {
    "collapsed": true
   },
   "outputs": [],
   "source": [
    "y = df_file['class']\n",
    "X_train, X_test, y_train, y_test = train_test_split(embedding_matrix, y, test_size=.2)"
   ]
  },
  {
   "cell_type": "code",
   "execution_count": 15,
   "metadata": {},
   "outputs": [
    {
     "name": "stdout",
     "output_type": "stream",
     "text": [
      "(8054, 18000)\n"
     ]
    }
   ],
   "source": [
    "print(X_train.shape)"
   ]
  },
  {
   "cell_type": "code",
   "execution_count": 16,
   "metadata": {
    "collapsed": true
   },
   "outputs": [],
   "source": [
    "def grid_search(param_grid):\n",
    " \n",
    "\n",
    "    clf = GridSearchCV(LogisticRegression(penalty='l2'), param_grid)\n",
    "    clf.fit(X_train, y_train)\n",
    "    return clf\n"
   ]
  },
  {
   "cell_type": "code",
   "execution_count": 17,
   "metadata": {},
   "outputs": [
    {
     "name": "stderr",
     "output_type": "stream",
     "text": [
      "/home/abdelrahman/anaconda3/lib/python3.6/site-packages/sklearn/linear_model/_logistic.py:764: ConvergenceWarning: lbfgs failed to converge (status=1):\n",
      "STOP: TOTAL NO. of ITERATIONS REACHED LIMIT.\n",
      "\n",
      "Increase the number of iterations (max_iter) or scale the data as shown in:\n",
      "    https://scikit-learn.org/stable/modules/preprocessing.html\n",
      "Please also refer to the documentation for alternative solver options:\n",
      "    https://scikit-learn.org/stable/modules/linear_model.html#logistic-regression\n",
      "  extra_warning_msg=_LOGISTIC_SOLVER_CONVERGENCE_MSG)\n",
      "/home/abdelrahman/anaconda3/lib/python3.6/site-packages/sklearn/linear_model/_logistic.py:764: ConvergenceWarning: lbfgs failed to converge (status=1):\n",
      "STOP: TOTAL NO. of ITERATIONS REACHED LIMIT.\n",
      "\n",
      "Increase the number of iterations (max_iter) or scale the data as shown in:\n",
      "    https://scikit-learn.org/stable/modules/preprocessing.html\n",
      "Please also refer to the documentation for alternative solver options:\n",
      "    https://scikit-learn.org/stable/modules/linear_model.html#logistic-regression\n",
      "  extra_warning_msg=_LOGISTIC_SOLVER_CONVERGENCE_MSG)\n",
      "/home/abdelrahman/anaconda3/lib/python3.6/site-packages/sklearn/linear_model/_logistic.py:764: ConvergenceWarning: lbfgs failed to converge (status=1):\n",
      "STOP: TOTAL NO. of ITERATIONS REACHED LIMIT.\n",
      "\n",
      "Increase the number of iterations (max_iter) or scale the data as shown in:\n",
      "    https://scikit-learn.org/stable/modules/preprocessing.html\n",
      "Please also refer to the documentation for alternative solver options:\n",
      "    https://scikit-learn.org/stable/modules/linear_model.html#logistic-regression\n",
      "  extra_warning_msg=_LOGISTIC_SOLVER_CONVERGENCE_MSG)\n",
      "/home/abdelrahman/anaconda3/lib/python3.6/site-packages/sklearn/linear_model/_logistic.py:764: ConvergenceWarning: lbfgs failed to converge (status=1):\n",
      "STOP: TOTAL NO. of ITERATIONS REACHED LIMIT.\n",
      "\n",
      "Increase the number of iterations (max_iter) or scale the data as shown in:\n",
      "    https://scikit-learn.org/stable/modules/preprocessing.html\n",
      "Please also refer to the documentation for alternative solver options:\n",
      "    https://scikit-learn.org/stable/modules/linear_model.html#logistic-regression\n",
      "  extra_warning_msg=_LOGISTIC_SOLVER_CONVERGENCE_MSG)\n",
      "/home/abdelrahman/anaconda3/lib/python3.6/site-packages/sklearn/linear_model/_logistic.py:764: ConvergenceWarning: lbfgs failed to converge (status=1):\n",
      "STOP: TOTAL NO. of ITERATIONS REACHED LIMIT.\n",
      "\n",
      "Increase the number of iterations (max_iter) or scale the data as shown in:\n",
      "    https://scikit-learn.org/stable/modules/preprocessing.html\n",
      "Please also refer to the documentation for alternative solver options:\n",
      "    https://scikit-learn.org/stable/modules/linear_model.html#logistic-regression\n",
      "  extra_warning_msg=_LOGISTIC_SOLVER_CONVERGENCE_MSG)\n",
      "/home/abdelrahman/anaconda3/lib/python3.6/site-packages/sklearn/linear_model/_sag.py:330: ConvergenceWarning: The max_iter was reached which means the coef_ did not converge\n",
      "  \"the coef_ did not converge\", ConvergenceWarning)\n",
      "/home/abdelrahman/anaconda3/lib/python3.6/site-packages/sklearn/linear_model/_sag.py:330: ConvergenceWarning: The max_iter was reached which means the coef_ did not converge\n",
      "  \"the coef_ did not converge\", ConvergenceWarning)\n",
      "/home/abdelrahman/anaconda3/lib/python3.6/site-packages/sklearn/linear_model/_sag.py:330: ConvergenceWarning: The max_iter was reached which means the coef_ did not converge\n",
      "  \"the coef_ did not converge\", ConvergenceWarning)\n",
      "/home/abdelrahman/anaconda3/lib/python3.6/site-packages/sklearn/linear_model/_sag.py:330: ConvergenceWarning: The max_iter was reached which means the coef_ did not converge\n",
      "  \"the coef_ did not converge\", ConvergenceWarning)\n",
      "/home/abdelrahman/anaconda3/lib/python3.6/site-packages/sklearn/linear_model/_sag.py:330: ConvergenceWarning: The max_iter was reached which means the coef_ did not converge\n",
      "  \"the coef_ did not converge\", ConvergenceWarning)\n",
      "/home/abdelrahman/anaconda3/lib/python3.6/site-packages/sklearn/linear_model/_logistic.py:764: ConvergenceWarning: lbfgs failed to converge (status=1):\n",
      "STOP: TOTAL NO. of ITERATIONS REACHED LIMIT.\n",
      "\n",
      "Increase the number of iterations (max_iter) or scale the data as shown in:\n",
      "    https://scikit-learn.org/stable/modules/preprocessing.html\n",
      "Please also refer to the documentation for alternative solver options:\n",
      "    https://scikit-learn.org/stable/modules/linear_model.html#logistic-regression\n",
      "  extra_warning_msg=_LOGISTIC_SOLVER_CONVERGENCE_MSG)\n",
      "/home/abdelrahman/anaconda3/lib/python3.6/site-packages/sklearn/linear_model/_logistic.py:764: ConvergenceWarning: lbfgs failed to converge (status=1):\n",
      "STOP: TOTAL NO. of ITERATIONS REACHED LIMIT.\n",
      "\n",
      "Increase the number of iterations (max_iter) or scale the data as shown in:\n",
      "    https://scikit-learn.org/stable/modules/preprocessing.html\n",
      "Please also refer to the documentation for alternative solver options:\n",
      "    https://scikit-learn.org/stable/modules/linear_model.html#logistic-regression\n",
      "  extra_warning_msg=_LOGISTIC_SOLVER_CONVERGENCE_MSG)\n",
      "/home/abdelrahman/anaconda3/lib/python3.6/site-packages/sklearn/linear_model/_logistic.py:764: ConvergenceWarning: lbfgs failed to converge (status=1):\n",
      "STOP: TOTAL NO. of ITERATIONS REACHED LIMIT.\n",
      "\n",
      "Increase the number of iterations (max_iter) or scale the data as shown in:\n",
      "    https://scikit-learn.org/stable/modules/preprocessing.html\n",
      "Please also refer to the documentation for alternative solver options:\n",
      "    https://scikit-learn.org/stable/modules/linear_model.html#logistic-regression\n",
      "  extra_warning_msg=_LOGISTIC_SOLVER_CONVERGENCE_MSG)\n",
      "/home/abdelrahman/anaconda3/lib/python3.6/site-packages/sklearn/linear_model/_logistic.py:764: ConvergenceWarning: lbfgs failed to converge (status=1):\n",
      "STOP: TOTAL NO. of ITERATIONS REACHED LIMIT.\n",
      "\n",
      "Increase the number of iterations (max_iter) or scale the data as shown in:\n",
      "    https://scikit-learn.org/stable/modules/preprocessing.html\n",
      "Please also refer to the documentation for alternative solver options:\n",
      "    https://scikit-learn.org/stable/modules/linear_model.html#logistic-regression\n",
      "  extra_warning_msg=_LOGISTIC_SOLVER_CONVERGENCE_MSG)\n",
      "/home/abdelrahman/anaconda3/lib/python3.6/site-packages/sklearn/linear_model/_logistic.py:764: ConvergenceWarning: lbfgs failed to converge (status=1):\n",
      "STOP: TOTAL NO. of ITERATIONS REACHED LIMIT.\n",
      "\n",
      "Increase the number of iterations (max_iter) or scale the data as shown in:\n",
      "    https://scikit-learn.org/stable/modules/preprocessing.html\n",
      "Please also refer to the documentation for alternative solver options:\n",
      "    https://scikit-learn.org/stable/modules/linear_model.html#logistic-regression\n",
      "  extra_warning_msg=_LOGISTIC_SOLVER_CONVERGENCE_MSG)\n",
      "/home/abdelrahman/anaconda3/lib/python3.6/site-packages/sklearn/linear_model/_sag.py:330: ConvergenceWarning: The max_iter was reached which means the coef_ did not converge\n",
      "  \"the coef_ did not converge\", ConvergenceWarning)\n",
      "/home/abdelrahman/anaconda3/lib/python3.6/site-packages/sklearn/linear_model/_sag.py:330: ConvergenceWarning: The max_iter was reached which means the coef_ did not converge\n",
      "  \"the coef_ did not converge\", ConvergenceWarning)\n",
      "/home/abdelrahman/anaconda3/lib/python3.6/site-packages/sklearn/linear_model/_sag.py:330: ConvergenceWarning: The max_iter was reached which means the coef_ did not converge\n",
      "  \"the coef_ did not converge\", ConvergenceWarning)\n",
      "/home/abdelrahman/anaconda3/lib/python3.6/site-packages/sklearn/linear_model/_sag.py:330: ConvergenceWarning: The max_iter was reached which means the coef_ did not converge\n",
      "  \"the coef_ did not converge\", ConvergenceWarning)\n",
      "/home/abdelrahman/anaconda3/lib/python3.6/site-packages/sklearn/linear_model/_sag.py:330: ConvergenceWarning: The max_iter was reached which means the coef_ did not converge\n",
      "  \"the coef_ did not converge\", ConvergenceWarning)\n"
     ]
    }
   ],
   "source": [
    "param_grid = {'solver':['lbfgs', 'liblinear', 'saga'] ,'C': [0.1 , 1] }\n",
    "clf = grid_search(param_grid)"
   ]
  },
  {
   "cell_type": "code",
   "execution_count": 18,
   "metadata": {},
   "outputs": [
    {
     "name": "stdout",
     "output_type": "stream",
     "text": [
      "tuned hpyerparameters :(best parameters)  {'C': 1, 'solver': 'liblinear'}\n",
      "accuracy : 0.8246839469331574\n"
     ]
    }
   ],
   "source": [
    "print(\"tuned hpyerparameters :(best parameters) \",clf.best_params_)\n",
    "print(\"accuracy :\",clf.best_score_)\n"
   ]
  },
  {
   "cell_type": "code",
   "execution_count": 19,
   "metadata": {
    "collapsed": true
   },
   "outputs": [],
   "source": [
    "def logistic_regression_model(penalty, solver, regul, iterations):\n",
    "    clf_LogisticRegression = LogisticRegression(penalty=penalty, solver=solver, C=regul, max_iter=iterations)\n",
    "    model = clf_LogisticRegression.fit(X_train, y_train)\n",
    "    predict = model.predict(X_train)\n",
    "    print(\"===================== Training Result =====================\")\n",
    "    print(\"F1 score of our training data is: \", f1_score(y_train, predict, average='micro'))\n",
    "    print(\"Evalution Matrix of training data is \\n\", confusion_matrix(y_train, predict))\n",
    "    predict = model.predict(X_test)\n",
    "    print(\"===================== Testing Result =====================\")\n",
    "    print(\"F1 score of our testing data is: \", f1_score(y_test, predict, average='micro'))\n",
    "    print(\"Evalution Matrix of training data is \\n\", confusion_matrix(y_test, predict))\n",
    "    return model"
   ]
  },
  {
   "cell_type": "code",
   "execution_count": 21,
   "metadata": {},
   "outputs": [
    {
     "name": "stdout",
     "output_type": "stream",
     "text": [
      "===================== Training Result =====================\n",
      "F1 score of our training data is:  0.8702508070523962\n",
      "Evalution Matrix of training data is \n",
      " [[3768  345]\n",
      " [ 700 3241]]\n",
      "===================== Testing Result =====================\n",
      "F1 score of our testing data is:  0.8192651439920556\n",
      "Evalution Matrix of training data is \n",
      " [[864 119]\n",
      " [245 786]]\n",
      "============================================================\n",
      "\n",
      "\n",
      " Show the difference of effect in regularization part:\n",
      "\n",
      "===================== Training Result =====================\n",
      "F1 score of our training data is:  0.8300223491432829\n",
      "Evalution Matrix of training data is \n",
      " [[3650  463]\n",
      " [ 906 3035]]\n",
      "===================== Testing Result =====================\n",
      "F1 score of our testing data is:  0.7879841112214498\n",
      "Evalution Matrix of training data is \n",
      " [[840 143]\n",
      " [284 747]]\n"
     ]
    }
   ],
   "source": [
    "# different regularization test\n",
    "clf_LogisticRegression1 = logistic_regression_model('l2', 'liblinear', 1, 2000)\n",
    "print(\"=\"*60)\n",
    "print(\"\\n\\n Show the difference of effect in regularization part:\\n\")\n",
    "clf_LogisticRegression3 = logistic_regression_model('l2', 'liblinear', 0.1, 2000)\n"
   ]
  },
  {
   "cell_type": "code",
   "execution_count": 24,
   "metadata": {
    "collapsed": true
   },
   "outputs": [],
   "source": [
    "pickle.dump(clf_LogisticRegression1, open('models_saved/logistic_regression/clf_LogisticRegression1_87tr_81ts_2vec.sav', 'wb'))\n"
   ]
  }
 ],
 "metadata": {
  "kernelspec": {
   "display_name": "Python 3",
   "language": "python",
   "name": "python3"
  },
  "language_info": {
   "codemirror_mode": {
    "name": "ipython",
    "version": 3
   },
   "file_extension": ".py",
   "mimetype": "text/x-python",
   "name": "python",
   "nbconvert_exporter": "python",
   "pygments_lexer": "ipython3",
   "version": "3.6.3"
  }
 },
 "nbformat": 4,
 "nbformat_minor": 2
}
