{
 "cells": [
  {
   "cell_type": "code",
   "execution_count": 1,
   "metadata": {},
   "outputs": [],
   "source": [
    "# # !pip install twarc\n",
    "# from twarc import Twarc\n",
    "# import pandas as pd\n",
    "# import  json\n",
    "# import csv\n",
    "# import os\n",
    "# import multiprocessing\n",
    "# import pymongo\n",
    "# from configs import *"
   ]
  },
  {
   "cell_type": "code",
   "execution_count": 2,
   "metadata": {
    "collapsed": true
   },
   "outputs": [],
   "source": [
    "# !git clone https://github.com/SarahAlqurashi/COVID-19-Arabic-Tweets-Dataset"
   ]
  },
  {
   "cell_type": "code",
   "execution_count": 3,
   "metadata": {},
   "outputs": [],
   "source": [
    "# T = Twarc(consumer_key, consumer_secret, access_token, access_token_secret)"
   ]
  },
  {
   "cell_type": "code",
   "execution_count": 4,
   "metadata": {
    "collapsed": true
   },
   "outputs": [],
   "source": [
    "# def one_file_tweets(Inputfile):\n",
    "#     '''Get all tweets text in one file'''\n",
    "#     ids = []\n",
    "# #     df = pd.read_csv(Inputfile,lineterminator='\\n', error_bad_lines=False, encoding='utf-8')\n",
    "    \n",
    "#     with open(Inputfile, \"r\", encoding='utf-8') as ids_file: #open the input file\n",
    "#         try:\n",
    "#             ids=ids_file.read().split() #read and store the ids\n",
    "# #             print(\"#\"*50)\n",
    "# #             print(\"ids le/n: \", len(ids))\n",
    "#             tweets_text = []\n",
    "#             print(\"=-=========\")\n",
    "#             for tweet in T.hydrate(iter(ids)):\n",
    "#                 print(tweet)\n",
    "#                 break\n",
    "#                 tweets_text.append(tweet['full_text'])\n",
    "                \n",
    "#             if len(tweets_text) != len(ids):\n",
    "#                 indx=len(tweets_text) \n",
    "#                 for tweet in T.hydrate(iter(ids[indx:])):\n",
    "#                     tweets_text.append(tweet['full_text'])\n",
    "#             dict_col = {'full_text': tweets_text}\n",
    "#             df_file = pd.DataFrame(dict_col)\n",
    "#             df_file.to_csv('csv_down_files/'+ Inputfile +'.csv', index=False)\n",
    "#         except Exception as e:\n",
    "#             file = open(\"logs/tweets_api_file.log\",\"+a\")\n",
    "#             file.write(\"This error related to function one_file_tweets of tweets_api file\\n\" \n",
    "#                + str(e) + \"\\n\" + \"#\" *99 + \"\\n\") # \"#\" *99 as separated lines\n",
    "#     return len(ids)"
   ]
  },
  {
   "cell_type": "code",
   "execution_count": 5,
   "metadata": {
    "collapsed": true
   },
   "outputs": [],
   "source": [
    "# def read_direction(direction_path):\n",
    "#     '''Loop over each direction and path each file in this direction to get all tweets'''\n",
    "#     tot = 0\n",
    "#     all_path_files = os.listdir(direction_path)\n",
    "#     for file_path in all_path_files:\n",
    "#         file_path = direction_path + file_path\n",
    "#         ids = one_file_tweets(file_path)\n",
    "#         tot+=(ids)\n",
    "#     return tot"
   ]
  },
  {
   "cell_type": "code",
   "execution_count": null,
   "metadata": {
    "collapsed": true
   },
   "outputs": [],
   "source": []
  }
 ],
 "metadata": {
  "kernelspec": {
   "display_name": "Python 3",
   "language": "python",
   "name": "python3"
  },
  "language_info": {
   "codemirror_mode": {
    "name": "ipython",
    "version": 3
   },
   "file_extension": ".py",
   "mimetype": "text/x-python",
   "name": "python",
   "nbconvert_exporter": "python",
   "pygments_lexer": "ipython3",
   "version": "3.6.3"
  }
 },
 "nbformat": 4,
 "nbformat_minor": 2
}
