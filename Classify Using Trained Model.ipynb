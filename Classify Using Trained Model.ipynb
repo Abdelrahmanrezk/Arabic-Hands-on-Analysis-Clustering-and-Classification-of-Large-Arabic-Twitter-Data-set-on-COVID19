{
 "cells": [
  {
   "cell_type": "code",
   "execution_count": 1,
   "metadata": {
    "collapsed": true
   },
   "outputs": [],
   "source": [
    "from sklearn.linear_model import LogisticRegression\n",
    "import matplotlib.pyplot as plt\n",
    "import pandas as pd\n",
    "import pickle\n",
    "import csv\n",
    "import os"
   ]
  },
  {
   "cell_type": "code",
   "execution_count": 2,
   "metadata": {
    "collapsed": true
   },
   "outputs": [],
   "source": [
    "log_reg_model = pickle.load(open(\"ml_models/models_weights/logistic_regression/logistic_regression_93tr_91ts.sav\", \"rb\"))\n",
    "tf_idf_model = pickle.load(open(\"ml_models/models_weights/tf_idf/tf_idf_vectorizer_50000_fetures.pickle\", \"rb\"))"
   ]
  },
  {
   "cell_type": "code",
   "execution_count": 3,
   "metadata": {
    "collapsed": true
   },
   "outputs": [],
   "source": [
    "path_to_read = 'csv_down_files/preprocessed/COVID19-tweetID-2020-01/' # January Month of 2020 \n",
    "path_to_save = 'csv_down_files/classifed_tweeets_of_each_file/COVID19-tweetID-2020-01/csv/' # Classify each file tweets"
   ]
  },
  {
   "cell_type": "markdown",
   "metadata": {},
   "source": [
    "# Small files functions"
   ]
  },
  {
   "cell_type": "code",
   "execution_count": null,
   "metadata": {},
   "outputs": [],
   "source": [
    "def classify_tweets_of_file(file_path, df_file):  \n",
    "    tweets = list(df_file['full_text'])\n",
    "    tweets_features = tf_idf_model.transform(tweets)\n",
    "    tweets_features_array = tweets_features.toarray()\n",
    "    predict = log_reg_model.predict(tweets_features_array)\n",
    "    classifed_dict    = {'tweet_text': tweets, 'class': predict}\n",
    "    classifed_data    = pd.DataFrame(classifed_dict)\n",
    "    return classifed_data\n",
    "\n",
    "\n",
    "\n",
    "def read_direction_to_classify(direction_path, path_to_save):\n",
    "    try:\n",
    "        all_path_files                          = os.listdir(direction_path)\n",
    "        cls = []\n",
    "        \n",
    "        for file_path in all_path_files:\n",
    "            file_path                           = direction_path + file_path\n",
    "            df_file   = pd.read_csv(file_path, error_bad_lines=False, encoding='utf-8', engine='python')\n",
    "            print(\"=========\")\n",
    "#             cls.extend(df_file['class'])\n",
    "            print(file_path)\n",
    "            classify_tweets                     = classify_tweets_of_file(file_path, df_file)\n",
    "            print(\"--------------\")\n",
    "            file_path                           = file_path.split('/')\n",
    "            file_name                           = file_path[3]\n",
    "            path_to_save_excel = path_to_save\n",
    "            path_to_save_csv = path_to_save + \"csv/\" + file_name\n",
    "            print(path_to_save_csv)\n",
    "#             path_to_save_excel = path_to_save_excel + \"excel/\" + file_name\n",
    "#             path_to_save_excel = path_to_save_excel.replace(\".csv\", '.xlsx')\n",
    "#             classify_tweets.to_csv(path_to_save_csv, index=False)\n",
    "#             classify_tweets.to_excel(path_to_save_excel, index=False)\n",
    "    except Exception as e:\n",
    "        file = open(\"f1_scores/direction_and_file_handleing_file.log\",\"+a\")\n",
    "        file.write(\"This error related to function read_direction_preprocess of direction_and_file_handleing file in direction config_files n\"\n",
    "                   + str(e) + \"\\n\" + \"#\" *99 + \"\\n\") # \"#\" *99 as separated lines\n",
    "    return cls\n",
    "\n",
    "cls = read_direction_to_classify(path_to_read, path_to_save)\n",
    "len(cls)"
   ]
  },
  {
   "cell_type": "markdown",
   "metadata": {},
   "source": [
    "# Big files functions"
   ]
  },
  {
   "cell_type": "code",
   "execution_count": null,
   "metadata": {
    "collapsed": true
   },
   "outputs": [],
   "source": [
    "def big_file_classify(df_file, file_name, path_to_save):\n",
    "    tweets = list(df_file['full_text'])\n",
    "    df_len = len(df_file)\n",
    "    to_index = 0\n",
    "    prdict_all = []\n",
    "    while to_index <= df_len:\n",
    "        part_of_tweets = tweets[to_index: to_index + 5000]\n",
    "        to_index = to_index + 5000\n",
    "        tweets_features = tf_idf_model.transform(part_of_tweets)\n",
    "        tweets_features_array = tweets_features.toarray()\n",
    "        predict = log_reg_model.predict(tweets_features_array)\n",
    "        prdict_all.extend(predict)\n",
    "        \n",
    "#         print(len(part_of_tweets))\n",
    "#     print(len(prdict_all))\n",
    "    classifed_dict    = {'tweet_text': tweets, 'class': prdict_all}\n",
    "    classifed_data    = pd.DataFrame(classifed_dict)\n",
    "    path_to_save = path_to_save + file_name\n",
    "#     path_to_save_csv = path_to_save + \"csv/\" + file_name\n",
    "#     file_name = file_name.replace('.csv', '.xlsx')\n",
    "#     path_to_save_excel = path_to_save + \"excel/\" + file_name\n",
    "    classifed_data.to_csv(path_to_save, index=False)\n",
    "    print(len(classifed_data))\n",
    "    print(len(tweets))\n",
    "    print(len(prdict_all))\n",
    "    print(\"=\"*50)\n",
    "#     classifed_data.to_excel(path_to_save_excel, index=False)\n",
    "    return True"
   ]
  },
  {
   "cell_type": "code",
   "execution_count": null,
   "metadata": {
    "collapsed": true
   },
   "outputs": [],
   "source": [
    "def read_direction_big_files(direction_path, path_to_save):\n",
    "    try:\n",
    "        all_path_files                          = os.listdir(direction_path)\n",
    "        for file_path in all_path_files:\n",
    "            file_path                           = direction_path + file_path\n",
    "            df_file   = pd.read_csv(file_path, error_bad_lines=False, encoding='utf-8', engine='python')\n",
    "            \n",
    "            file_path                           = file_path.split('/')\n",
    "            file_name                           = file_path[3]\n",
    "            big_file_classify(df_file, file_name, path_to_save)\n",
    "    except Exception as e:\n",
    "        file = open(\"logs/direction_and_file_handleing_file.log\",\"+a\")\n",
    "        file.write(\"This error related to function read_direction_preprocess of direction_and_file_handleing file in direction config_files n\"\n",
    "                   + str(e) + \"\\n\" + \"#\" *99 + \"\\n\") # \"#\" *99 as separated lines\n",
    "    return True"
   ]
  },
  {
   "cell_type": "code",
   "execution_count": null,
   "metadata": {},
   "outputs": [],
   "source": [
    "big_files = 'csv_down_files/preprocessed/bigfiles/'\n",
    "path_to_save = 'csv_down_files/classifed_tweeets_of_each_file/COVID19-tweetID-2020-01/csv/'\n",
    "read_direction_big_files(big_files, path_to_save)"
   ]
  },
  {
   "cell_type": "code",
   "execution_count": null,
   "metadata": {
    "collapsed": true
   },
   "outputs": [],
   "source": [
    "def get_all_tweets(direction_read):\n",
    "    try:\n",
    "#         total = 0\n",
    "        all_path_files              = os.listdir(direction_read)\n",
    "        all_files_tweets            = []\n",
    "        all_files_tweets_predicited = []\n",
    "        for file_path in all_path_files:\n",
    "            file_name = file_path\n",
    "            file_path           = direction_read + file_path\n",
    "            df_file             = pd.read_csv(file_path, lineterminator='\\n', error_bad_lines=False, encoding='utf-8')\n",
    "            print(file_path)\n",
    "            print(len(df_file))\n",
    "            tweets_features = tf_idf_model.transform(list(df_file['full_text']))\n",
    "            tweets_features_array = tweets_features.toarray()\n",
    "            predict = log_reg_model.predict(tweets_features_array)\n",
    "            \n",
    "            all_files_tweets    += list(df_file['full_text'])\n",
    "            all_files_tweets_predicited    += list(predict)\n",
    "            \n",
    "            path_to_save = 'csv_down_files/classifed_tweeets_of_each_file/COVID19-tweetID-2020-01/csv/'\n",
    "            path_to_save = path_to_save + file_name\n",
    "            dicts_df                = {\"tweet_text\": list(df_file['full_text']), 'class': list(predict)}\n",
    "            dicts_df                 = pd.DataFrame(dicts_df)\n",
    "            dicts_df.to_csv(path_to_save, index=False)\n",
    "#             print(\"===========\")\n",
    "#             all_files_tweets_predicited    += list(df_file['class'])\n",
    "#             print(len(all_files_tweets))\n",
    "        df_file                = {\"tweet_text\": all_files_tweets, 'class': all_files_tweets_predicited}\n",
    "        df_file                 = pd.DataFrame(dicts_df)\n",
    "              \n",
    "    except Exception as e:\n",
    "        file = open(\"logs/get_tweet_to_classify.log\",\"+a\")\n",
    "        file.write(\"This error related to function get_random_number_of_tweets of get_tweet_to_classify file in direction config_files n\"\n",
    "                   + str(e) + \"\\n\" + \"#\" *99 + \"\\n\") # \"#\" *99 as separated lines\n",
    "    return df_file\n"
   ]
  },
  {
   "cell_type": "code",
   "execution_count": null,
   "metadata": {},
   "outputs": [],
   "source": [
    "df_file = get_all_tweets(path_to_read)\n",
    "df_file.head()"
   ]
  },
  {
   "cell_type": "code",
   "execution_count": null,
   "metadata": {},
   "outputs": [],
   "source": [
    "df = pd.read_csv('csv_down_files/classifed_tweeets_of_each_file/COVID19-tweetID-2020-01/csv/COVID19-tweetID-2020-01-03.csv')"
   ]
  },
  {
   "cell_type": "code",
   "execution_count": null,
   "metadata": {
    "collapsed": true
   },
   "outputs": [],
   "source": [
    "tweets = list(df_file['tweet_text'])\n",
    "tweets_features = tf_idf_model.transform(tweets)\n",
    "tweets_features_array = tweets_features.toarray()\n",
    "predict = log_reg_model.predict(tweets_features_array)\n",
    "\n",
    "classifed_dict    = {'tweet_text': tweets, 'class': predict}\n",
    "\n",
    "classifed_data    = pd.DataFrame(classifed_dict)\n",
    "classifed_data.head()"
   ]
  },
  {
   "cell_type": "code",
   "execution_count": null,
   "metadata": {
    "collapsed": true
   },
   "outputs": [],
   "source": []
  },
  {
   "cell_type": "code",
   "execution_count": null,
   "metadata": {
    "collapsed": true
   },
   "outputs": [],
   "source": [
    "path = path_to_save + 'csv/'\n",
    "df_file = get_all_tweets(path)"
   ]
  },
  {
   "cell_type": "code",
   "execution_count": null,
   "metadata": {
    "collapsed": true
   },
   "outputs": [],
   "source": [
    "df_file.head()"
   ]
  },
  {
   "cell_type": "code",
   "execution_count": null,
   "metadata": {
    "collapsed": true
   },
   "outputs": [],
   "source": [
    "import numpy as np\n",
    "cls = np.array(cls)\n",
    "cls[:10]"
   ]
  },
  {
   "cell_type": "code",
   "execution_count": null,
   "metadata": {
    "collapsed": true
   },
   "outputs": [],
   "source": [
    "class_1 = np.sum(cls == 1)\n",
    "class_1"
   ]
  },
  {
   "cell_type": "code",
   "execution_count": null,
   "metadata": {
    "collapsed": true
   },
   "outputs": [],
   "source": [
    "class_0 = np.sum(cls == 0)\n",
    "class_0"
   ]
  },
  {
   "cell_type": "code",
   "execution_count": null,
   "metadata": {
    "collapsed": true
   },
   "outputs": [],
   "source": [
    "print(\"Number of coronavirus Tweets: \", class_1)\n",
    "print(\"Number of other Tweets: \", class_0)"
   ]
  },
  {
   "cell_type": "code",
   "execution_count": null,
   "metadata": {
    "collapsed": true
   },
   "outputs": [],
   "source": [
    "histogram = [0, 1]\n",
    "\n",
    "labels= 'Class 1 Coronavirus', 'Class 0 General'\n",
    "sizes = [class_1, class_0]\n",
    "explode= (0, 0.1)  \n",
    "fig1, ax1= plt.subplots()\n",
    "ax1.pie(sizes, explode=explode, labels=labels, autopct='%1.1f%%', shadow=True, startangle=90)\n",
    "plt.title(\"Coronavirus Vs General Tweets\")\n",
    "plt.savefig('test2')"
   ]
  },
  {
   "cell_type": "code",
   "execution_count": 46,
   "metadata": {
    "collapsed": true
   },
   "outputs": [],
   "source": [
    "def one_file_for_all_tweets(direction_path):\n",
    "    try:\n",
    "        all_path_files                          = os.listdir(direction_path)\n",
    "        tweets = []\n",
    "        classes = []\n",
    "        for file_path in all_path_files:\n",
    "            file_path                           = direction_path + file_path\n",
    "            df_file   = pd.read_csv(file_path, error_bad_lines=False, encoding='utf-8', engine='python')\n",
    "            tweets += list(df_file['tweet_text'])\n",
    "            classes += list(df_file['class'])\n",
    "        \n",
    "        \n",
    "        all_classifed_tweets    = {'tweet_text': tweets, 'class': classes}\n",
    "        all_classifed_tweets = pd.DataFrame(all_classifed_tweets)\n",
    "        all_classifed_tweets = all_classifed_tweets.dropna()\n",
    "        pass_to_save = \"csv_down_files/\"\n",
    "        all_classifed_tweets.to_csv(pass_to_save + \"all_classifed_tweets_304418.csv\", index=False)\n",
    "        all_classifed_tweets.to_excel(pass_to_save + \"all_classifed_tweets_304418.xlsx\", index=False)\n",
    "    except Exception as e:\n",
    "        print('======')\n",
    "        file = open(\"logs/direction_and_file_handleing_file.log\",\"+a\")\n",
    "        file.write(\"This error related to function read_direction_preprocess of direction_and_file_handleing file in direction config_files n\"\n",
    "                   + str(e) + \"\\n\" + \"#\" *99 + \"\\n\") # \"#\" *99 as separated lines\n",
    "    return True"
   ]
  },
  {
   "cell_type": "code",
   "execution_count": 47,
   "metadata": {},
   "outputs": [
    {
     "data": {
      "text/plain": [
       "True"
      ]
     },
     "execution_count": 47,
     "metadata": {},
     "output_type": "execute_result"
    }
   ],
   "source": [
    "reading_path = 'csv_down_files/classifed_tweeets_of_each_file/COVID19-tweetID-2020-01/csv/'\n",
    "one_file_for_all_tweets(reading_path)"
   ]
  },
  {
   "cell_type": "code",
   "execution_count": 48,
   "metadata": {},
   "outputs": [
    {
     "data": {
      "text/plain": [
       "304415"
      ]
     },
     "execution_count": 48,
     "metadata": {},
     "output_type": "execute_result"
    }
   ],
   "source": [
    "df = pd.read_csv('csv_down_files/all_classifed_tweets_304418.csv')\n",
    "len(df)"
   ]
  },
  {
   "cell_type": "code",
   "execution_count": 49,
   "metadata": {},
   "outputs": [
    {
     "data": {
      "text/html": [
       "<div>\n",
       "<style scoped>\n",
       "    .dataframe tbody tr th:only-of-type {\n",
       "        vertical-align: middle;\n",
       "    }\n",
       "\n",
       "    .dataframe tbody tr th {\n",
       "        vertical-align: top;\n",
       "    }\n",
       "\n",
       "    .dataframe thead th {\n",
       "        text-align: right;\n",
       "    }\n",
       "</style>\n",
       "<table border=\"1\" class=\"dataframe\">\n",
       "  <thead>\n",
       "    <tr style=\"text-align: right;\">\n",
       "      <th></th>\n",
       "      <th>tweet_text</th>\n",
       "      <th>class</th>\n",
       "    </tr>\n",
       "  </thead>\n",
       "  <tbody>\n",
       "    <tr>\n",
       "      <th>0</th>\n",
       "      <td>منظمه الصحه العالميه تدعو  الصين التحقيق في مص...</td>\n",
       "      <td>1.0</td>\n",
       "    </tr>\n",
       "    <tr>\n",
       "      <th>1</th>\n",
       "      <td>الصحه العالميه   ظهور  كورونا  جديد في الصين</td>\n",
       "      <td>1.0</td>\n",
       "    </tr>\n",
       "    <tr>\n",
       "      <th>2</th>\n",
       "      <td>الصحه العالميه   ظهور  كورونا  جديد في الصين\\...</td>\n",
       "      <td>1.0</td>\n",
       "    </tr>\n",
       "    <tr>\n",
       "      <th>3</th>\n",
       "      <td>وضع الاطفال الشاشات صباحا يزيد خطر تعرضهم لمشك...</td>\n",
       "      <td>0.0</td>\n",
       "    </tr>\n",
       "    <tr>\n",
       "      <th>4</th>\n",
       "      <td>الصحه العالميه تحذر ظهور  كورونا  جديد في الص...</td>\n",
       "      <td>1.0</td>\n",
       "    </tr>\n",
       "  </tbody>\n",
       "</table>\n",
       "</div>"
      ],
      "text/plain": [
       "                                          tweet_text  class\n",
       "0  منظمه الصحه العالميه تدعو  الصين التحقيق في مص...    1.0\n",
       "1     الصحه العالميه   ظهور  كورونا  جديد في الصين      1.0\n",
       "2   الصحه العالميه   ظهور  كورونا  جديد في الصين\\...    1.0\n",
       "3  وضع الاطفال الشاشات صباحا يزيد خطر تعرضهم لمشك...    0.0\n",
       "4   الصحه العالميه تحذر ظهور  كورونا  جديد في الص...    1.0"
      ]
     },
     "execution_count": 49,
     "metadata": {},
     "output_type": "execute_result"
    }
   ],
   "source": [
    "df.head()"
   ]
  },
  {
   "cell_type": "code",
   "execution_count": 50,
   "metadata": {},
   "outputs": [
    {
     "name": "stdout",
     "output_type": "stream",
     "text": [
      "<class 'pandas.core.frame.DataFrame'>\n",
      "RangeIndex: 304415 entries, 0 to 304414\n",
      "Data columns (total 2 columns):\n",
      "tweet_text    304415 non-null object\n",
      "class         304415 non-null float64\n",
      "dtypes: float64(1), object(1)\n",
      "memory usage: 4.6+ MB\n"
     ]
    }
   ],
   "source": [
    "df.info()"
   ]
  },
  {
   "cell_type": "code",
   "execution_count": 51,
   "metadata": {},
   "outputs": [],
   "source": [
    "dfs = df.astype({\"tweet_text\": object, \"class\": int})"
   ]
  },
  {
   "cell_type": "code",
   "execution_count": 52,
   "metadata": {},
   "outputs": [
    {
     "name": "stdout",
     "output_type": "stream",
     "text": [
      "<class 'pandas.core.frame.DataFrame'>\n",
      "RangeIndex: 304415 entries, 0 to 304414\n",
      "Data columns (total 2 columns):\n",
      "tweet_text    304415 non-null object\n",
      "class         304415 non-null int64\n",
      "dtypes: int64(1), object(1)\n",
      "memory usage: 4.6+ MB\n"
     ]
    }
   ],
   "source": [
    "dfs.info()"
   ]
  },
  {
   "cell_type": "code",
   "execution_count": 53,
   "metadata": {},
   "outputs": [],
   "source": [
    "dfs.to_csv('csv_down_files/all_classifed_tweets_304418.csv', index=False)"
   ]
  },
  {
   "cell_type": "code",
   "execution_count": 54,
   "metadata": {},
   "outputs": [
    {
     "data": {
      "text/plain": [
       "304415"
      ]
     },
     "execution_count": 54,
     "metadata": {},
     "output_type": "execute_result"
    }
   ],
   "source": [
    "dfs = pd.read_csv('csv_down_files/all_classifed_tweets_304418.csv')\n",
    "len(dfs)"
   ]
  },
  {
   "cell_type": "code",
   "execution_count": 55,
   "metadata": {},
   "outputs": [
    {
     "data": {
      "text/html": [
       "<div>\n",
       "<style scoped>\n",
       "    .dataframe tbody tr th:only-of-type {\n",
       "        vertical-align: middle;\n",
       "    }\n",
       "\n",
       "    .dataframe tbody tr th {\n",
       "        vertical-align: top;\n",
       "    }\n",
       "\n",
       "    .dataframe thead th {\n",
       "        text-align: right;\n",
       "    }\n",
       "</style>\n",
       "<table border=\"1\" class=\"dataframe\">\n",
       "  <thead>\n",
       "    <tr style=\"text-align: right;\">\n",
       "      <th></th>\n",
       "      <th>tweet_text</th>\n",
       "      <th>class</th>\n",
       "    </tr>\n",
       "  </thead>\n",
       "  <tbody>\n",
       "    <tr>\n",
       "      <th>0</th>\n",
       "      <td>منظمه الصحه العالميه تدعو  الصين التحقيق في مص...</td>\n",
       "      <td>1</td>\n",
       "    </tr>\n",
       "    <tr>\n",
       "      <th>1</th>\n",
       "      <td>الصحه العالميه   ظهور  كورونا  جديد في الصين</td>\n",
       "      <td>1</td>\n",
       "    </tr>\n",
       "    <tr>\n",
       "      <th>2</th>\n",
       "      <td>الصحه العالميه   ظهور  كورونا  جديد في الصين\\...</td>\n",
       "      <td>1</td>\n",
       "    </tr>\n",
       "    <tr>\n",
       "      <th>3</th>\n",
       "      <td>وضع الاطفال الشاشات صباحا يزيد خطر تعرضهم لمشك...</td>\n",
       "      <td>0</td>\n",
       "    </tr>\n",
       "    <tr>\n",
       "      <th>4</th>\n",
       "      <td>الصحه العالميه تحذر ظهور  كورونا  جديد في الص...</td>\n",
       "      <td>1</td>\n",
       "    </tr>\n",
       "  </tbody>\n",
       "</table>\n",
       "</div>"
      ],
      "text/plain": [
       "                                          tweet_text  class\n",
       "0  منظمه الصحه العالميه تدعو  الصين التحقيق في مص...      1\n",
       "1     الصحه العالميه   ظهور  كورونا  جديد في الصين        1\n",
       "2   الصحه العالميه   ظهور  كورونا  جديد في الصين\\...      1\n",
       "3  وضع الاطفال الشاشات صباحا يزيد خطر تعرضهم لمشك...      0\n",
       "4   الصحه العالميه تحذر ظهور  كورونا  جديد في الص...      1"
      ]
     },
     "execution_count": 55,
     "metadata": {},
     "output_type": "execute_result"
    }
   ],
   "source": [
    "dfs.head()"
   ]
  },
  {
   "cell_type": "code",
   "execution_count": 56,
   "metadata": {},
   "outputs": [
    {
     "name": "stdout",
     "output_type": "stream",
     "text": [
      "<class 'pandas.core.frame.DataFrame'>\n",
      "RangeIndex: 304415 entries, 0 to 304414\n",
      "Data columns (total 2 columns):\n",
      "tweet_text    304415 non-null object\n",
      "class         304415 non-null int64\n",
      "dtypes: int64(1), object(1)\n",
      "memory usage: 4.6+ MB\n"
     ]
    }
   ],
   "source": [
    "dfs.info()"
   ]
  },
  {
   "cell_type": "code",
   "execution_count": 57,
   "metadata": {},
   "outputs": [
    {
     "data": {
      "text/html": [
       "<div>\n",
       "<style scoped>\n",
       "    .dataframe tbody tr th:only-of-type {\n",
       "        vertical-align: middle;\n",
       "    }\n",
       "\n",
       "    .dataframe tbody tr th {\n",
       "        vertical-align: top;\n",
       "    }\n",
       "\n",
       "    .dataframe thead th {\n",
       "        text-align: right;\n",
       "    }\n",
       "</style>\n",
       "<table border=\"1\" class=\"dataframe\">\n",
       "  <thead>\n",
       "    <tr style=\"text-align: right;\">\n",
       "      <th></th>\n",
       "      <th>tweet_text</th>\n",
       "      <th>class</th>\n",
       "    </tr>\n",
       "  </thead>\n",
       "  <tbody>\n",
       "    <tr>\n",
       "      <th>0</th>\n",
       "      <td>منظمه الصحه العالميه تدعو  الصين التحقيق في مص...</td>\n",
       "      <td>1</td>\n",
       "    </tr>\n",
       "    <tr>\n",
       "      <th>1</th>\n",
       "      <td>الصحه العالميه   ظهور  كورونا  جديد في الصين</td>\n",
       "      <td>1</td>\n",
       "    </tr>\n",
       "    <tr>\n",
       "      <th>2</th>\n",
       "      <td>الصحه العالميه   ظهور  كورونا  جديد في الصين\\...</td>\n",
       "      <td>1</td>\n",
       "    </tr>\n",
       "    <tr>\n",
       "      <th>3</th>\n",
       "      <td>وضع الاطفال الشاشات صباحا يزيد خطر تعرضهم لمشك...</td>\n",
       "      <td>0</td>\n",
       "    </tr>\n",
       "    <tr>\n",
       "      <th>4</th>\n",
       "      <td>الصحه العالميه تحذر ظهور  كورونا  جديد في الص...</td>\n",
       "      <td>1</td>\n",
       "    </tr>\n",
       "  </tbody>\n",
       "</table>\n",
       "</div>"
      ],
      "text/plain": [
       "                                          tweet_text  class\n",
       "0  منظمه الصحه العالميه تدعو  الصين التحقيق في مص...      1\n",
       "1     الصحه العالميه   ظهور  كورونا  جديد في الصين        1\n",
       "2   الصحه العالميه   ظهور  كورونا  جديد في الصين\\...      1\n",
       "3  وضع الاطفال الشاشات صباحا يزيد خطر تعرضهم لمشك...      0\n",
       "4   الصحه العالميه تحذر ظهور  كورونا  جديد في الص...      1"
      ]
     },
     "execution_count": 57,
     "metadata": {},
     "output_type": "execute_result"
    }
   ],
   "source": [
    "dfs = pd.read_excel('csv_down_files/all_classifed_tweets_304418.xlsx')\n",
    "dfs.head()"
   ]
  },
  {
   "cell_type": "code",
   "execution_count": 58,
   "metadata": {},
   "outputs": [
    {
     "data": {
      "text/plain": [
       "304415"
      ]
     },
     "execution_count": 58,
     "metadata": {},
     "output_type": "execute_result"
    }
   ],
   "source": [
    "len(dfs)"
   ]
  },
  {
   "cell_type": "code",
   "execution_count": null,
   "metadata": {
    "collapsed": true
   },
   "outputs": [],
   "source": []
  }
 ],
 "metadata": {
  "kernelspec": {
   "display_name": "Python 3",
   "language": "python",
   "name": "python3"
  },
  "language_info": {
   "codemirror_mode": {
    "name": "ipython",
    "version": 3
   },
   "file_extension": ".py",
   "mimetype": "text/x-python",
   "name": "python",
   "nbconvert_exporter": "python",
   "pygments_lexer": "ipython3",
   "version": "3.6.9"
  }
 },
 "nbformat": 4,
 "nbformat_minor": 2
}
